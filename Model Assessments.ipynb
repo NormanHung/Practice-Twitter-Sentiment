{
 "cells": [
  {
   "cell_type": "markdown",
   "metadata": {},
   "source": [
    "## Load Training / Testing Data"
   ]
  },
  {
   "cell_type": "code",
   "execution_count": 1,
   "metadata": {},
   "outputs": [],
   "source": [
    "import pickle\n",
    "with open(\"A:\\\\Files\\\\Shares\\\\Downloads\\\\yelp_dataset\\\\yelp_dataset~\\\\TrainTestData.dat\", \"rb\") as filePath:\n",
    "    Train_X = pickle.load(file=filePath)\n",
    "    Train_Y = pickle.load(file=filePath)\n",
    "    Test_X = pickle.load(file=filePath)\n",
    "    Test_Y = pickle.load(file=filePath)"
   ]
  },
  {
   "cell_type": "code",
   "execution_count": 6,
   "metadata": {},
   "outputs": [
    {
     "name": "stdout",
     "output_type": "stream",
     "text": [
      "(151483, 1743)\n",
      "(151483,)\n",
      "(37871, 1743)\n",
      "(37871,)\n",
      "[2.  4.  3.  2.5 3.5]\n"
     ]
    }
   ],
   "source": [
    "print(Train_X.shape)\n",
    "print(Train_Y.shape)\n",
    "print(Test_X.shape)\n",
    "print(Test_Y.shape)\n",
    "print(Test_Y.unique())"
   ]
  },
  {
   "cell_type": "markdown",
   "metadata": {},
   "source": [
    "## Classification Models"
   ]
  },
  {
   "cell_type": "code",
   "execution_count": 6,
   "metadata": {},
   "outputs": [],
   "source": [
    "# Run through multiple classifiers and rank results\n",
    "\n",
    "from sklearn.metrics import accuracy_score, precision_score, recall_score, f1_score, confusion_matrix, precision_recall_fscore_support\n",
    "from sklearn.naive_bayes import GaussianNB, BernoulliNB, MultinomialNB, ComplementNB\n",
    "from sklearn.ensemble import GradientBoostingClassifier, RandomForestClassifier, ExtraTreesClassifier\n",
    "from sklearn.neighbors import KNeighborsClassifier\n",
    "from sklearn.tree import DecisionTreeClassifier, ExtraTreeClassifier\n",
    "from xgboost import XGBClassifier\n",
    "import pandas as pd\n",
    "import numpy as np\n",
    "\n",
    "def AssessClassifierModels(TrainingDataColumns, TrainingDataResults, TestingDataColumns, TestingDataResults, Algorithms_List):\n",
    "    from datetime import datetime\n",
    "    functionStartTime = datetime.now()\n",
    "    print()\n",
    "    \n",
    "    # results container\n",
    "    results_list = pd.DataFrame( columns = [\"Name\",\n",
    "                                            \"Precision\",\n",
    "                                            \"Recall\",\n",
    "                                            \"F1\",\n",
    "                                            \"Support\",\n",
    "                                            \"ModelData\",\n",
    "                                            \"ExecutionTime\",\n",
    "                                           ]) # Set index later to avoid empty row\n",
    "    \n",
    "    # calculated metrics and append to list\n",
    "    for algorithm in Algorithms_List:\n",
    "        loopStartTime = datetime.now()\n",
    "        print(\"Starting \" + str(algorithm.__name__) + \" at \" + str(loopStartTime))\n",
    "\n",
    "        algorithmObject = algorithm()\n",
    "        \n",
    "        if(str(algorithm.__name__) == \"XGBClassifier\"):\n",
    "            algorithmObject = XGBClassifier(nthread=4)\n",
    "\n",
    "        algorithmObject.fit(TrainingDataColumns, TrainingDataResults)\n",
    "        algorithmPredictions = algorithmObject.predict(TestingDataColumns)\n",
    "        (algorithmPrecision, algorithmRecall, algorithmF1, algorithmSupportList) = precision_recall_fscore_support(\n",
    "            TestingDataResults, algorithmPredictions, labels = np.sort(TrainingDataResults.unique()))\n",
    "        algorithmExecutionTime = str(datetime.now() - loopStartTime)\n",
    "        \n",
    "        results_list = results_list.append({\"Name\":  algorithm.__name__,\n",
    "                                            \"Precision\": algorithmPrecision,\n",
    "                                            \"Recall\": algorithmRecall,\n",
    "                                            \"F1\": algorithmF1,\n",
    "                                            \"Support\": algorithmSupportList,\n",
    "#                                            \"ConfusionMatrix\": \"\",# confusion_matrix(TestingDataResults, algorithmPredictions),\n",
    "                                            \"ModelData\" : algorithmObject,\n",
    "                                            \"ExecutionTime\": algorithmExecutionTime, \n",
    "                                            }, ignore_index = True)\n",
    "#         print(\"\\tEnding \" + str(algorithm.__name__) + \" at \" + str(datetime.now()) + \"\\n\")\n",
    "        \n",
    "#         with pd.option_context(\"display.max_rows\", None, \"display.max_columns\", None, \"display.max_colwidth\", 1000):\n",
    "#             print(results_list.iloc[len(results_list)-1, :])\n",
    "\n",
    "    # Set index to a meaningful value\n",
    "    results_list.set_index(\"Name\")\n",
    "    print(\"Assessment Complete.\")\n",
    "    return results_list"
   ]
  },
  {
   "cell_type": "code",
   "execution_count": 8,
   "metadata": {
    "scrolled": false
   },
   "outputs": [
    {
     "name": "stdout",
     "output_type": "stream",
     "text": [
      "\n",
      "Starting XGBClassifier at 2020-01-25 05:53:08.755046\n",
      "Starting MultinomialNB at 2020-01-25 06:02:08.412566\n",
      "Starting GaussianNB at 2020-01-25 06:02:11.383606\n",
      "Starting BernoulliNB at 2020-01-25 06:02:36.073686\n",
      "Starting DecisionTreeClassifier at 2020-01-25 06:03:25.876884\n",
      "Starting ExtraTreeClassifier at 2020-01-25 06:06:50.863603\n",
      "Assessment Complete.\n"
     ]
    }
   ],
   "source": [
    "#StarPolarity_Map = {1:-1.0, 2:-0.5, 3:0.0, 4:0.5, 5:1.0}\n",
    "StarPolarity_Map = {1:2.0, 2:2.5, 3:3.0, 4:3.5, 5:4.0}\n",
    "ClassifierResults_List = AssessClassifierModels(Train_X, Train_Y.map(StarPolarity_Map).apply(str).astype(\"category\"), Test_X, Test_Y.map(StarPolarity_Map).apply(str).astype(\"category\"), [\n",
    "    XGBClassifier,\n",
    "    MultinomialNB,\n",
    "    GaussianNB,\n",
    "    BernoulliNB,\n",
    "    #KNeighborsClassifier,\n",
    "    #DecisionTreeClassifier,\n",
    "    ExtraTreeClassifier\n",
    "])"
   ]
  },
  {
   "cell_type": "code",
   "execution_count": 9,
   "metadata": {
    "scrolled": false
   },
   "outputs": [
    {
     "name": "stdout",
     "output_type": "stream",
     "text": [
      "                     Name  \\\n",
      "0           XGBClassifier   \n",
      "1           MultinomialNB   \n",
      "2              GaussianNB   \n",
      "3             BernoulliNB   \n",
      "4  DecisionTreeClassifier   \n",
      "5     ExtraTreeClassifier   \n",
      "\n",
      "                                                                                                 Precision  \\\n",
      "0    [0.43410852713178294, 0.62510845045983, 0.46622542339887096, 0.45076060848678945, 0.5988313520048358]   \n",
      "1    [0.32357043235704325, 0.6955237446034992, 0.4434848484848485, 0.5111710323574731, 0.6925350122060902]   \n",
      "2    [0.2851963746223565, 0.6786147419485244, 0.3448133635801196, 0.39832775919732444, 0.4130954570535222]   \n",
      "3  [0.30156537753222834, 0.6761139311900733, 0.37977315689981095, 0.45304172027200884, 0.3993250127356088]   \n",
      "4    [0.21397849462365592, 0.5853964632059326, 0.2966114572253457, 0.3647869815798395, 0.5114114779525815]   \n",
      "5    [0.19717376904393905, 0.4862628268785171, 0.2645865834633385, 0.3355742935278031, 0.4458374573848015]   \n",
      "\n",
      "                                                                                                   Recall  \\\n",
      "0   [0.11925042589437819, 0.8214570744498917, 0.35933983495873967, 0.506636670416198, 0.6717143180020342]   \n",
      "1   [0.29642248722316866, 0.6979819860905256, 0.4391597899474869, 0.5970753655793026, 0.6091083738275511]   \n",
      "2   [0.2010221465076661, 0.5741648614753164, 0.2508627156789197, 0.26794150731158606, 0.7614419708441632]   \n",
      "3  [0.27896081771720616, 0.5466879489225858, 0.3014253563390848, 0.27727784026996627, 0.7086676460617019]   \n",
      "4  [0.2118824531516184, 0.5849960095770151, 0.29287321830457613, 0.36310461192350957, 0.5216408633743926]   \n",
      "5    [0.1901618398637138, 0.5024512598335423, 0.254463615903976, 0.3312710911136108, 0.45813086224432137]   \n",
      "\n",
      "                                                                                                         F1  \\\n",
      "0    [0.18710324089542266, 0.7099571365226388, 0.4058634129808507, 0.47706810719203474, 0.6331824234354195]   \n",
      "1        [0.30940208935318964, 0.69675069709213, 0.4413117225782133, 0.5507938155027498, 0.648148148148148]   \n",
      "2      [0.2358231326505121, 0.6220355731225296, 0.2904290429042904, 0.3203765971755212, 0.5356120826709062]   \n",
      "3    [0.28982300884955753, 0.6045514719788185, 0.3360936846507737, 0.34400948991696323, 0.5108133425650634]   \n",
      "4    [0.21292531564305586, 0.5851961678832117, 0.2947304846746187, 0.36394385252832745, 0.5164755244755245]   \n",
      "5  [0.19360433604336044, 0.49422451497140296, 0.25942638623326963, 0.33340880787954263, 0.4519005684984952]   \n",
      "\n",
      "                          Support   ExecutionTime  \n",
      "0  [4696, 8771, 6665, 8890, 8849]  0:08:59.657520  \n",
      "1  [4696, 8771, 6665, 8890, 8849]  0:00:02.971040  \n",
      "2  [4696, 8771, 6665, 8890, 8849]  0:00:24.687082  \n",
      "3  [4696, 8771, 6665, 8890, 8849]  0:00:49.803198  \n",
      "4  [4696, 8771, 6665, 8890, 8849]  0:03:24.986719  \n",
      "5  [4696, 8771, 6665, 8890, 8849]  0:00:11.191309  \n"
     ]
    }
   ],
   "source": [
    "with pd.option_context(\"display.max_rows\", None, \"display.max_columns\", None, \"display.max_colwidth\", 1000):\n",
    "    print(ClassifierResults_List[[\"Name\", \"Precision\", \"Recall\", \"F1\", \"Support\", \"ExecutionTime\"]])"
   ]
  },
  {
   "cell_type": "code",
   "execution_count": 10,
   "metadata": {},
   "outputs": [],
   "source": [
    "import pickle\n",
    "with open(\"Z:\\\\Downloads\\\\yelp_dataset\\\\yelp_dataset~\\\\ClassifierResults.dat\", \"wb\") as filePath:\n",
    "    pickle.dump(ClassifierResults_List, file=filePath, protocol = pickle.HIGHEST_PROTOCOL)"
   ]
  },
  {
   "cell_type": "code",
   "execution_count": 12,
   "metadata": {},
   "outputs": [
    {
     "data": {
      "text/plain": [
       "0"
      ]
     },
     "execution_count": 12,
     "metadata": {},
     "output_type": "execute_result"
    }
   ],
   "source": [
    "import gc\n",
    "del ClassifierResults_List\n",
    "gc.collect()\n",
    "gc.collect()"
   ]
  },
  {
   "cell_type": "code",
   "execution_count": 5,
   "metadata": {},
   "outputs": [
    {
     "data": {
      "text/plain": [
       "0"
      ]
     },
     "execution_count": 5,
     "metadata": {},
     "output_type": "execute_result"
    }
   ],
   "source": [
    "import gc\n",
    "#del TrainingData\n",
    "#del WordCounts\n",
    "gc.collect()\n",
    "gc.collect()"
   ]
  },
  {
   "cell_type": "code",
   "execution_count": null,
   "metadata": {},
   "outputs": [],
   "source": []
  },
  {
   "cell_type": "markdown",
   "metadata": {},
   "source": [
    "## Regression Models"
   ]
  },
  {
   "cell_type": "code",
   "execution_count": 11,
   "metadata": {},
   "outputs": [],
   "source": [
    "# Run through multiple Regression models and rank results\n",
    "import pandas as pd\n",
    "\n",
    "from sklearn.linear_model import LinearRegression, Ridge, Lasso, ElasticNet\n",
    "from sklearn.tree import ExtraTreeRegressor\n",
    "from sklearn.ensemble import GradientBoostingRegressor\n",
    "from xgboost import XGBRegressor\n",
    "\n",
    "def AssessRegressionModels(x_train, y_train, x_test, y_test, algorithms_list):\n",
    "    from sklearn.metrics import mean_squared_error, r2_score, mean_absolute_error\n",
    "\n",
    "    from datetime import datetime\n",
    "\n",
    "    import warnings\n",
    "    warnings.simplefilter(action='ignore', category=FutureWarning)\n",
    "    # results container\n",
    "    results_list = pd.DataFrame()\n",
    "    \n",
    "    # calculated metrics and append to list\n",
    "    functionStartTime = datetime.now()\n",
    "    for algorithm in algorithms_list:\n",
    "        algorithmObject = algorithm()\n",
    "        if(str(algorithm.__name__) == \"XGBRegressor\"):\n",
    "            algorithmObject = XGBRegressor(objective = \"reg:squarederror\", nthread=6)\n",
    "            \n",
    "        loopStartTime = datetime.now()\n",
    "        print(\"Starting \" + str(algorithm.__name__) + \" at \" + str(loopStartTime))\n",
    "\n",
    "        algorithmObject.fit(x_train, y_train)\n",
    "        y_predictor = algorithmObject.predict(x_test)\n",
    "        \n",
    "        algorithmExecutionTime = str(datetime.now() - loopStartTime)\n",
    "\n",
    "        results_list = results_list.append({\"Name\" : algorithm.__name__, \n",
    "                                            \"R2Score\": r2_score(y_test, y_predictor),\n",
    "                                            \"RMSE\": (mean_squared_error(y_test, y_predictor)),\n",
    "                                            \"MAE\": mean_absolute_error(y_test, y_predictor),\n",
    "                                            \"ModelData\" : algorithmObject,\n",
    "                                            \"RunTime\" : algorithmExecutionTime,\n",
    "                                            }, ignore_index = True)\n",
    "\n",
    "        print(\"\\tEnding \" + str(algorithm.__name__) + \" at \" + str(datetime.now()))\n",
    "\n",
    "    # sort list by r2 score\n",
    "    results_list.sort_values(by=['R2Score'], inplace=True, ascending = False)\n",
    "\n",
    "    return results_list"
   ]
  },
  {
   "cell_type": "code",
   "execution_count": 16,
   "metadata": {
    "scrolled": false
   },
   "outputs": [
    {
     "name": "stdout",
     "output_type": "stream",
     "text": [
      "Starting XGBRegressor at 2020-01-26 14:33:46.632344\n",
      "\tEnding XGBRegressor at 2020-01-26 14:35:09.385311\n",
      "Starting GradientBoostingRegressor at 2020-01-26 14:35:09.386310\n",
      "\tEnding GradientBoostingRegressor at 2020-01-26 14:43:50.886106\n",
      "Starting ExtraTreeRegressor at 2020-01-26 14:43:50.887105\n",
      "\tEnding ExtraTreeRegressor at 2020-01-26 14:46:28.680589\n",
      "Starting LinearRegression at 2020-01-26 14:46:28.680589\n",
      "\tEnding LinearRegression at 2020-01-26 14:46:45.443238\n",
      "Starting Ridge at 2020-01-26 14:46:45.444238\n",
      "\tEnding Ridge at 2020-01-26 14:46:53.216283\n",
      "Starting Lasso at 2020-01-26 14:46:53.216283\n",
      "\tEnding Lasso at 2020-01-26 14:46:57.712851\n",
      "Starting ElasticNet at 2020-01-26 14:46:57.713851\n",
      "\tEnding ElasticNet at 2020-01-26 14:47:02.520330\n",
      "        MAE                       Name   R2Score      RMSE         RunTime\n",
      "4  0.408997                      Ridge  0.541973  0.252671  0:00:07.764048\n",
      "3  0.408996           LinearRegression  0.541968  0.252674  0:00:16.757650\n",
      "0  0.422029               XGBRegressor  0.519948  0.264821  0:01:22.747968\n",
      "1  0.422275  GradientBoostingRegressor  0.518879  0.265411  0:08:41.493797\n",
      "2  0.458466         ExtraTreeRegressor  0.151540  0.468054  0:02:37.787486\n",
      "6  0.642749                 ElasticNet  0.016491  0.542554  0:00:04.798482\n",
      "5  0.647848                      Lasso -0.000079  0.551695  0:00:04.491571\n"
     ]
    }
   ],
   "source": [
    "RegressorResults_List = AssessRegressionModels(Train_X, Train_Y, Test_X, Test_Y, [\n",
    "    XGBRegressor,\n",
    "    GradientBoostingRegressor,\n",
    "    ExtraTreeRegressor,\n",
    "    LinearRegression,\n",
    "    Ridge,\n",
    "    Lasso,\n",
    "    ElasticNet,\n",
    "])\n",
    "\n",
    "with pd.option_context(\"display.max_rows\", None, \"display.max_columns\", None, \"display.max_colwidth\", 1000):\n",
    "    print(RegressorResults_List.drop(\"ModelData\", axis = 1))"
   ]
  },
  {
   "cell_type": "code",
   "execution_count": 10,
   "metadata": {},
   "outputs": [],
   "source": [
    "import pickle\n",
    "with open(\"Z:\\\\Downloads\\\\yelp_dataset\\\\yelp_dataset~\\\\RegressorResults.dat\", \"wb\") as filePath:\n",
    "    pickle.dump(RegressorResults_List, file=filePath)"
   ]
  },
  {
   "cell_type": "code",
   "execution_count": 4,
   "metadata": {},
   "outputs": [],
   "source": [
    "import pandas as pd\n",
    "def AssessXGBRegression(x_train, y_train, x_test, y_test, Model):\n",
    "    from sklearn.metrics import mean_squared_error, r2_score, mean_absolute_error\n",
    "    from xgboost import XGBRegressor\n",
    "    from datetime import datetime\n",
    "    import warnings\n",
    "    warnings.simplefilter(action='ignore', category=FutureWarning)\n",
    "\n",
    "    loopStartTime = datetime.now()\n",
    "    # results container\n",
    "    results_list = pd.DataFrame( )#columns = [\"Name\", \"R2 Score\", \"RMS Error\", \"Mean Absolute Error\", \"ModelData\", \"ExecutionTime\"])\n",
    "\n",
    "\n",
    "    print(\"Starting XGBRegressor at \" + str(loopStartTime))\n",
    "\n",
    "    Model.fit(x_train, y_train)\n",
    "    xgbPredictor = Model.predict(x_test)\n",
    "\n",
    "    loopEndTime = datetime.now()\n",
    "    results_list = results_list.append({\"Name\" : \"XGBRegressor\",\n",
    "                                        \"R2Score\": r2_score(y_test, xgbPredictor),\n",
    "                                        \"RMSE\": (mean_squared_error(y_test, xgbPredictor)),\n",
    "                                        \"MAE\": mean_absolute_error(y_test, xgbPredictor),\n",
    "                                        \"ModelData\" : Model,\n",
    "                                        \"RunTime\": str(loopEndTime - loopStartTime),\n",
    "#                                         \"LearningRate\": str(LearningRate),\n",
    "#                                         \"MaxDepth\":str(MaxDepth),\n",
    "                                        }, ignore_index = True)\n",
    "\n",
    "    print(\"\\tEnding XGBRegressor at \" + str(datetime.now()))\n",
    "\n",
    "    return results_list"
   ]
  },
  {
   "cell_type": "markdown",
   "metadata": {},
   "source": [
    "### Trialing different XGB parameters"
   ]
  },
  {
   "cell_type": "code",
   "execution_count": 3,
   "metadata": {
    "scrolled": true
   },
   "outputs": [
    {
     "name": "stdout",
     "output_type": "stream",
     "text": [
      "Starting XGBRegressor at 2020-01-26 10:03:53.907183\n",
      "\tEnding XGBRegressor at 2020-01-26 10:04:12.862094\n"
     ]
    },
    {
     "data": {
      "text/html": [
       "<div>\n",
       "<style scoped>\n",
       "    .dataframe tbody tr th:only-of-type {\n",
       "        vertical-align: middle;\n",
       "    }\n",
       "\n",
       "    .dataframe tbody tr th {\n",
       "        vertical-align: top;\n",
       "    }\n",
       "\n",
       "    .dataframe thead th {\n",
       "        text-align: right;\n",
       "    }\n",
       "</style>\n",
       "<table border=\"1\" class=\"dataframe\">\n",
       "  <thead>\n",
       "    <tr style=\"text-align: right;\">\n",
       "      <th></th>\n",
       "      <th>MAE</th>\n",
       "      <th>R2Score</th>\n",
       "      <th>RMSE</th>\n",
       "      <th>RunTime</th>\n",
       "      <th>LearnRate</th>\n",
       "      <th>MaxDepth</th>\n",
       "      <th>Estimators</th>\n",
       "    </tr>\n",
       "  </thead>\n",
       "  <tbody>\n",
       "    <tr>\n",
       "      <th>0</th>\n",
       "      <td>2.313265</td>\n",
       "      <td>-9.665592</td>\n",
       "      <td>5.883688</td>\n",
       "      <td>0:00:18.948913</td>\n",
       "      <td>0.01</td>\n",
       "      <td>3</td>\n",
       "      <td>10</td>\n",
       "    </tr>\n",
       "  </tbody>\n",
       "</table>\n",
       "</div>"
      ],
      "text/plain": [
       "        MAE   R2Score      RMSE         RunTime  LearnRate  MaxDepth  \\\n",
       "0  2.313265 -9.665592  5.883688  0:00:18.948913       0.01         3   \n",
       "\n",
       "   Estimators  \n",
       "0          10  "
      ]
     },
     "metadata": {},
     "output_type": "display_data"
    },
    {
     "name": "stdout",
     "output_type": "stream",
     "text": [
      "Starting XGBRegressor at 2020-01-26 10:04:12.892085\n",
      "\tEnding XGBRegressor at 2020-01-26 10:04:32.366828\n"
     ]
    },
    {
     "data": {
      "text/html": [
       "<div>\n",
       "<style scoped>\n",
       "    .dataframe tbody tr th:only-of-type {\n",
       "        vertical-align: middle;\n",
       "    }\n",
       "\n",
       "    .dataframe tbody tr th {\n",
       "        vertical-align: top;\n",
       "    }\n",
       "\n",
       "    .dataframe thead th {\n",
       "        text-align: right;\n",
       "    }\n",
       "</style>\n",
       "<table border=\"1\" class=\"dataframe\">\n",
       "  <thead>\n",
       "    <tr style=\"text-align: right;\">\n",
       "      <th></th>\n",
       "      <th>MAE</th>\n",
       "      <th>R2Score</th>\n",
       "      <th>RMSE</th>\n",
       "      <th>RunTime</th>\n",
       "      <th>LearnRate</th>\n",
       "      <th>MaxDepth</th>\n",
       "      <th>Estimators</th>\n",
       "    </tr>\n",
       "  </thead>\n",
       "  <tbody>\n",
       "    <tr>\n",
       "      <th>0</th>\n",
       "      <td>2.313266</td>\n",
       "      <td>-9.658454</td>\n",
       "      <td>5.87975</td>\n",
       "      <td>0:00:19.469745</td>\n",
       "      <td>0.01</td>\n",
       "      <td>4</td>\n",
       "      <td>10</td>\n",
       "    </tr>\n",
       "  </tbody>\n",
       "</table>\n",
       "</div>"
      ],
      "text/plain": [
       "        MAE   R2Score     RMSE         RunTime  LearnRate  MaxDepth  \\\n",
       "0  2.313266 -9.658454  5.87975  0:00:19.469745       0.01         4   \n",
       "\n",
       "   Estimators  \n",
       "0          10  "
      ]
     },
     "metadata": {},
     "output_type": "display_data"
    },
    {
     "name": "stdout",
     "output_type": "stream",
     "text": [
      "Starting XGBRegressor at 2020-01-26 10:04:32.737710\n",
      "\tEnding XGBRegressor at 2020-01-26 10:04:52.788269\n"
     ]
    },
    {
     "data": {
      "text/html": [
       "<div>\n",
       "<style scoped>\n",
       "    .dataframe tbody tr th:only-of-type {\n",
       "        vertical-align: middle;\n",
       "    }\n",
       "\n",
       "    .dataframe tbody tr th {\n",
       "        vertical-align: top;\n",
       "    }\n",
       "\n",
       "    .dataframe thead th {\n",
       "        text-align: right;\n",
       "    }\n",
       "</style>\n",
       "<table border=\"1\" class=\"dataframe\">\n",
       "  <thead>\n",
       "    <tr style=\"text-align: right;\">\n",
       "      <th></th>\n",
       "      <th>MAE</th>\n",
       "      <th>R2Score</th>\n",
       "      <th>RMSE</th>\n",
       "      <th>RunTime</th>\n",
       "      <th>LearnRate</th>\n",
       "      <th>MaxDepth</th>\n",
       "      <th>Estimators</th>\n",
       "    </tr>\n",
       "  </thead>\n",
       "  <tbody>\n",
       "    <tr>\n",
       "      <th>0</th>\n",
       "      <td>2.313289</td>\n",
       "      <td>-9.652688</td>\n",
       "      <td>5.876569</td>\n",
       "      <td>0:00:20.044561</td>\n",
       "      <td>0.01</td>\n",
       "      <td>5</td>\n",
       "      <td>10</td>\n",
       "    </tr>\n",
       "  </tbody>\n",
       "</table>\n",
       "</div>"
      ],
      "text/plain": [
       "        MAE   R2Score      RMSE         RunTime  LearnRate  MaxDepth  \\\n",
       "0  2.313289 -9.652688  5.876569  0:00:20.044561       0.01         5   \n",
       "\n",
       "   Estimators  \n",
       "0          10  "
      ]
     },
     "metadata": {},
     "output_type": "display_data"
    },
    {
     "name": "stdout",
     "output_type": "stream",
     "text": [
      "Starting XGBRegressor at 2020-01-26 10:04:53.189140\n",
      "\tEnding XGBRegressor at 2020-01-26 10:05:14.144408\n"
     ]
    },
    {
     "data": {
      "text/html": [
       "<div>\n",
       "<style scoped>\n",
       "    .dataframe tbody tr th:only-of-type {\n",
       "        vertical-align: middle;\n",
       "    }\n",
       "\n",
       "    .dataframe tbody tr th {\n",
       "        vertical-align: top;\n",
       "    }\n",
       "\n",
       "    .dataframe thead th {\n",
       "        text-align: right;\n",
       "    }\n",
       "</style>\n",
       "<table border=\"1\" class=\"dataframe\">\n",
       "  <thead>\n",
       "    <tr style=\"text-align: right;\">\n",
       "      <th></th>\n",
       "      <th>MAE</th>\n",
       "      <th>R2Score</th>\n",
       "      <th>RMSE</th>\n",
       "      <th>RunTime</th>\n",
       "      <th>LearnRate</th>\n",
       "      <th>MaxDepth</th>\n",
       "      <th>Estimators</th>\n",
       "    </tr>\n",
       "  </thead>\n",
       "  <tbody>\n",
       "    <tr>\n",
       "      <th>0</th>\n",
       "      <td>2.313295</td>\n",
       "      <td>-9.647512</td>\n",
       "      <td>5.873714</td>\n",
       "      <td>0:00:20.949270</td>\n",
       "      <td>0.01</td>\n",
       "      <td>6</td>\n",
       "      <td>10</td>\n",
       "    </tr>\n",
       "  </tbody>\n",
       "</table>\n",
       "</div>"
      ],
      "text/plain": [
       "        MAE   R2Score      RMSE         RunTime  LearnRate  MaxDepth  \\\n",
       "0  2.313295 -9.647512  5.873714  0:00:20.949270       0.01         6   \n",
       "\n",
       "   Estimators  \n",
       "0          10  "
      ]
     },
     "metadata": {},
     "output_type": "display_data"
    },
    {
     "name": "stdout",
     "output_type": "stream",
     "text": [
      "Starting XGBRegressor at 2020-01-26 10:05:14.513290\n",
      "\tEnding XGBRegressor at 2020-01-26 10:05:36.568206\n"
     ]
    },
    {
     "data": {
      "text/html": [
       "<div>\n",
       "<style scoped>\n",
       "    .dataframe tbody tr th:only-of-type {\n",
       "        vertical-align: middle;\n",
       "    }\n",
       "\n",
       "    .dataframe tbody tr th {\n",
       "        vertical-align: top;\n",
       "    }\n",
       "\n",
       "    .dataframe thead th {\n",
       "        text-align: right;\n",
       "    }\n",
       "</style>\n",
       "<table border=\"1\" class=\"dataframe\">\n",
       "  <thead>\n",
       "    <tr style=\"text-align: right;\">\n",
       "      <th></th>\n",
       "      <th>MAE</th>\n",
       "      <th>R2Score</th>\n",
       "      <th>RMSE</th>\n",
       "      <th>RunTime</th>\n",
       "      <th>LearnRate</th>\n",
       "      <th>MaxDepth</th>\n",
       "      <th>Estimators</th>\n",
       "    </tr>\n",
       "  </thead>\n",
       "  <tbody>\n",
       "    <tr>\n",
       "      <th>0</th>\n",
       "      <td>2.313364</td>\n",
       "      <td>-9.643554</td>\n",
       "      <td>5.87153</td>\n",
       "      <td>0:00:22.049917</td>\n",
       "      <td>0.01</td>\n",
       "      <td>7</td>\n",
       "      <td>10</td>\n",
       "    </tr>\n",
       "  </tbody>\n",
       "</table>\n",
       "</div>"
      ],
      "text/plain": [
       "        MAE   R2Score     RMSE         RunTime  LearnRate  MaxDepth  \\\n",
       "0  2.313364 -9.643554  5.87153  0:00:22.049917       0.01         7   \n",
       "\n",
       "   Estimators  \n",
       "0          10  "
      ]
     },
     "metadata": {},
     "output_type": "display_data"
    },
    {
     "name": "stdout",
     "output_type": "stream",
     "text": [
      "Starting XGBRegressor at 2020-01-26 10:05:36.951083\n",
      "\tEnding XGBRegressor at 2020-01-26 10:06:00.354566\n"
     ]
    },
    {
     "data": {
      "text/html": [
       "<div>\n",
       "<style scoped>\n",
       "    .dataframe tbody tr th:only-of-type {\n",
       "        vertical-align: middle;\n",
       "    }\n",
       "\n",
       "    .dataframe tbody tr th {\n",
       "        vertical-align: top;\n",
       "    }\n",
       "\n",
       "    .dataframe thead th {\n",
       "        text-align: right;\n",
       "    }\n",
       "</style>\n",
       "<table border=\"1\" class=\"dataframe\">\n",
       "  <thead>\n",
       "    <tr style=\"text-align: right;\">\n",
       "      <th></th>\n",
       "      <th>MAE</th>\n",
       "      <th>R2Score</th>\n",
       "      <th>RMSE</th>\n",
       "      <th>RunTime</th>\n",
       "      <th>LearnRate</th>\n",
       "      <th>MaxDepth</th>\n",
       "      <th>Estimators</th>\n",
       "    </tr>\n",
       "  </thead>\n",
       "  <tbody>\n",
       "    <tr>\n",
       "      <th>0</th>\n",
       "      <td>2.313387</td>\n",
       "      <td>-9.639607</td>\n",
       "      <td>5.869353</td>\n",
       "      <td>0:00:23.397484</td>\n",
       "      <td>0.01</td>\n",
       "      <td>8</td>\n",
       "      <td>10</td>\n",
       "    </tr>\n",
       "  </tbody>\n",
       "</table>\n",
       "</div>"
      ],
      "text/plain": [
       "        MAE   R2Score      RMSE         RunTime  LearnRate  MaxDepth  \\\n",
       "0  2.313387 -9.639607  5.869353  0:00:23.397484       0.01         8   \n",
       "\n",
       "   Estimators  \n",
       "0          10  "
      ]
     },
     "metadata": {},
     "output_type": "display_data"
    },
    {
     "name": "stdout",
     "output_type": "stream",
     "text": [
      "Starting XGBRegressor at 2020-01-26 10:06:00.740441\n",
      "\tEnding XGBRegressor at 2020-01-26 10:06:25.583461\n"
     ]
    },
    {
     "data": {
      "text/html": [
       "<div>\n",
       "<style scoped>\n",
       "    .dataframe tbody tr th:only-of-type {\n",
       "        vertical-align: middle;\n",
       "    }\n",
       "\n",
       "    .dataframe tbody tr th {\n",
       "        vertical-align: top;\n",
       "    }\n",
       "\n",
       "    .dataframe thead th {\n",
       "        text-align: right;\n",
       "    }\n",
       "</style>\n",
       "<table border=\"1\" class=\"dataframe\">\n",
       "  <thead>\n",
       "    <tr style=\"text-align: right;\">\n",
       "      <th></th>\n",
       "      <th>MAE</th>\n",
       "      <th>R2Score</th>\n",
       "      <th>RMSE</th>\n",
       "      <th>RunTime</th>\n",
       "      <th>LearnRate</th>\n",
       "      <th>MaxDepth</th>\n",
       "      <th>Estimators</th>\n",
       "    </tr>\n",
       "  </thead>\n",
       "  <tbody>\n",
       "    <tr>\n",
       "      <th>0</th>\n",
       "      <td>2.313413</td>\n",
       "      <td>-9.636019</td>\n",
       "      <td>5.867373</td>\n",
       "      <td>0:00:24.837022</td>\n",
       "      <td>0.01</td>\n",
       "      <td>9</td>\n",
       "      <td>10</td>\n",
       "    </tr>\n",
       "  </tbody>\n",
       "</table>\n",
       "</div>"
      ],
      "text/plain": [
       "        MAE   R2Score      RMSE         RunTime  LearnRate  MaxDepth  \\\n",
       "0  2.313413 -9.636019  5.867373  0:00:24.837022       0.01         9   \n",
       "\n",
       "   Estimators  \n",
       "0          10  "
      ]
     },
     "metadata": {},
     "output_type": "display_data"
    },
    {
     "name": "stdout",
     "output_type": "stream",
     "text": [
      "Starting XGBRegressor at 2020-01-26 10:06:25.974336\n",
      "\tEnding XGBRegressor at 2020-01-26 10:06:53.188593\n"
     ]
    },
    {
     "data": {
      "text/html": [
       "<div>\n",
       "<style scoped>\n",
       "    .dataframe tbody tr th:only-of-type {\n",
       "        vertical-align: middle;\n",
       "    }\n",
       "\n",
       "    .dataframe tbody tr th {\n",
       "        vertical-align: top;\n",
       "    }\n",
       "\n",
       "    .dataframe thead th {\n",
       "        text-align: right;\n",
       "    }\n",
       "</style>\n",
       "<table border=\"1\" class=\"dataframe\">\n",
       "  <thead>\n",
       "    <tr style=\"text-align: right;\">\n",
       "      <th></th>\n",
       "      <th>MAE</th>\n",
       "      <th>R2Score</th>\n",
       "      <th>RMSE</th>\n",
       "      <th>RunTime</th>\n",
       "      <th>LearnRate</th>\n",
       "      <th>MaxDepth</th>\n",
       "      <th>Estimators</th>\n",
       "    </tr>\n",
       "  </thead>\n",
       "  <tbody>\n",
       "    <tr>\n",
       "      <th>0</th>\n",
       "      <td>2.31345</td>\n",
       "      <td>-9.632741</td>\n",
       "      <td>5.865565</td>\n",
       "      <td>0:00:27.208259</td>\n",
       "      <td>0.01</td>\n",
       "      <td>10</td>\n",
       "      <td>10</td>\n",
       "    </tr>\n",
       "  </tbody>\n",
       "</table>\n",
       "</div>"
      ],
      "text/plain": [
       "       MAE   R2Score      RMSE         RunTime  LearnRate  MaxDepth  \\\n",
       "0  2.31345 -9.632741  5.865565  0:00:27.208259       0.01        10   \n",
       "\n",
       "   Estimators  \n",
       "0          10  "
      ]
     },
     "metadata": {},
     "output_type": "display_data"
    },
    {
     "name": "stdout",
     "output_type": "stream",
     "text": [
      "Starting XGBRegressor at 2020-01-26 10:06:53.573470\n",
      "\tEnding XGBRegressor at 2020-01-26 10:07:22.694116\n"
     ]
    },
    {
     "data": {
      "text/html": [
       "<div>\n",
       "<style scoped>\n",
       "    .dataframe tbody tr th:only-of-type {\n",
       "        vertical-align: middle;\n",
       "    }\n",
       "\n",
       "    .dataframe tbody tr th {\n",
       "        vertical-align: top;\n",
       "    }\n",
       "\n",
       "    .dataframe thead th {\n",
       "        text-align: right;\n",
       "    }\n",
       "</style>\n",
       "<table border=\"1\" class=\"dataframe\">\n",
       "  <thead>\n",
       "    <tr style=\"text-align: right;\">\n",
       "      <th></th>\n",
       "      <th>MAE</th>\n",
       "      <th>R2Score</th>\n",
       "      <th>RMSE</th>\n",
       "      <th>RunTime</th>\n",
       "      <th>LearnRate</th>\n",
       "      <th>MaxDepth</th>\n",
       "      <th>Estimators</th>\n",
       "    </tr>\n",
       "  </thead>\n",
       "  <tbody>\n",
       "    <tr>\n",
       "      <th>0</th>\n",
       "      <td>2.313507</td>\n",
       "      <td>-9.629753</td>\n",
       "      <td>5.863917</td>\n",
       "      <td>0:00:29.115647</td>\n",
       "      <td>0.01</td>\n",
       "      <td>11</td>\n",
       "      <td>10</td>\n",
       "    </tr>\n",
       "  </tbody>\n",
       "</table>\n",
       "</div>"
      ],
      "text/plain": [
       "        MAE   R2Score      RMSE         RunTime  LearnRate  MaxDepth  \\\n",
       "0  2.313507 -9.629753  5.863917  0:00:29.115647       0.01        11   \n",
       "\n",
       "   Estimators  \n",
       "0          10  "
      ]
     },
     "metadata": {},
     "output_type": "display_data"
    },
    {
     "name": "stdout",
     "output_type": "stream",
     "text": [
      "Starting XGBRegressor at 2020-01-26 10:07:23.092987\n",
      "\tEnding XGBRegressor at 2020-01-26 10:07:54.725826\n"
     ]
    },
    {
     "data": {
      "text/html": [
       "<div>\n",
       "<style scoped>\n",
       "    .dataframe tbody tr th:only-of-type {\n",
       "        vertical-align: middle;\n",
       "    }\n",
       "\n",
       "    .dataframe tbody tr th {\n",
       "        vertical-align: top;\n",
       "    }\n",
       "\n",
       "    .dataframe thead th {\n",
       "        text-align: right;\n",
       "    }\n",
       "</style>\n",
       "<table border=\"1\" class=\"dataframe\">\n",
       "  <thead>\n",
       "    <tr style=\"text-align: right;\">\n",
       "      <th></th>\n",
       "      <th>MAE</th>\n",
       "      <th>R2Score</th>\n",
       "      <th>RMSE</th>\n",
       "      <th>RunTime</th>\n",
       "      <th>LearnRate</th>\n",
       "      <th>MaxDepth</th>\n",
       "      <th>Estimators</th>\n",
       "    </tr>\n",
       "  </thead>\n",
       "  <tbody>\n",
       "    <tr>\n",
       "      <th>0</th>\n",
       "      <td>2.313547</td>\n",
       "      <td>-9.62743</td>\n",
       "      <td>5.862635</td>\n",
       "      <td>0:00:31.626841</td>\n",
       "      <td>0.01</td>\n",
       "      <td>12</td>\n",
       "      <td>10</td>\n",
       "    </tr>\n",
       "  </tbody>\n",
       "</table>\n",
       "</div>"
      ],
      "text/plain": [
       "        MAE  R2Score      RMSE         RunTime  LearnRate  MaxDepth  \\\n",
       "0  2.313547 -9.62743  5.862635  0:00:31.626841       0.01        12   \n",
       "\n",
       "   Estimators  \n",
       "0          10  "
      ]
     },
     "metadata": {},
     "output_type": "display_data"
    },
    {
     "name": "stdout",
     "output_type": "stream",
     "text": [
      "Starting XGBRegressor at 2020-01-26 10:07:55.139694\n",
      "\tEnding XGBRegressor at 2020-01-26 10:08:13.909664\n"
     ]
    },
    {
     "data": {
      "text/html": [
       "<div>\n",
       "<style scoped>\n",
       "    .dataframe tbody tr th:only-of-type {\n",
       "        vertical-align: middle;\n",
       "    }\n",
       "\n",
       "    .dataframe tbody tr th {\n",
       "        vertical-align: top;\n",
       "    }\n",
       "\n",
       "    .dataframe thead th {\n",
       "        text-align: right;\n",
       "    }\n",
       "</style>\n",
       "<table border=\"1\" class=\"dataframe\">\n",
       "  <thead>\n",
       "    <tr style=\"text-align: right;\">\n",
       "      <th></th>\n",
       "      <th>MAE</th>\n",
       "      <th>R2Score</th>\n",
       "      <th>RMSE</th>\n",
       "      <th>RunTime</th>\n",
       "      <th>LearnRate</th>\n",
       "      <th>MaxDepth</th>\n",
       "      <th>Estimators</th>\n",
       "    </tr>\n",
       "  </thead>\n",
       "  <tbody>\n",
       "    <tr>\n",
       "      <th>0</th>\n",
       "      <td>1.532857</td>\n",
       "      <td>-4.126675</td>\n",
       "      <td>2.828137</td>\n",
       "      <td>0:00:18.763972</td>\n",
       "      <td>0.05</td>\n",
       "      <td>3</td>\n",
       "      <td>10</td>\n",
       "    </tr>\n",
       "  </tbody>\n",
       "</table>\n",
       "</div>"
      ],
      "text/plain": [
       "        MAE   R2Score      RMSE         RunTime  LearnRate  MaxDepth  \\\n",
       "0  1.532857 -4.126675  2.828137  0:00:18.763972       0.05         3   \n",
       "\n",
       "   Estimators  \n",
       "0          10  "
      ]
     },
     "metadata": {},
     "output_type": "display_data"
    },
    {
     "name": "stdout",
     "output_type": "stream",
     "text": [
      "Starting XGBRegressor at 2020-01-26 10:08:14.316533\n",
      "\tEnding XGBRegressor at 2020-01-26 10:08:33.663319\n"
     ]
    },
    {
     "data": {
      "text/html": [
       "<div>\n",
       "<style scoped>\n",
       "    .dataframe tbody tr th:only-of-type {\n",
       "        vertical-align: middle;\n",
       "    }\n",
       "\n",
       "    .dataframe tbody tr th {\n",
       "        vertical-align: top;\n",
       "    }\n",
       "\n",
       "    .dataframe thead th {\n",
       "        text-align: right;\n",
       "    }\n",
       "</style>\n",
       "<table border=\"1\" class=\"dataframe\">\n",
       "  <thead>\n",
       "    <tr style=\"text-align: right;\">\n",
       "      <th></th>\n",
       "      <th>MAE</th>\n",
       "      <th>R2Score</th>\n",
       "      <th>RMSE</th>\n",
       "      <th>RunTime</th>\n",
       "      <th>LearnRate</th>\n",
       "      <th>MaxDepth</th>\n",
       "      <th>Estimators</th>\n",
       "    </tr>\n",
       "  </thead>\n",
       "  <tbody>\n",
       "    <tr>\n",
       "      <th>0</th>\n",
       "      <td>1.532855</td>\n",
       "      <td>-4.101343</td>\n",
       "      <td>2.814163</td>\n",
       "      <td>0:00:19.341787</td>\n",
       "      <td>0.05</td>\n",
       "      <td>4</td>\n",
       "      <td>10</td>\n",
       "    </tr>\n",
       "  </tbody>\n",
       "</table>\n",
       "</div>"
      ],
      "text/plain": [
       "        MAE   R2Score      RMSE         RunTime  LearnRate  MaxDepth  \\\n",
       "0  1.532855 -4.101343  2.814163  0:00:19.341787       0.05         4   \n",
       "\n",
       "   Estimators  \n",
       "0          10  "
      ]
     },
     "metadata": {},
     "output_type": "display_data"
    },
    {
     "name": "stdout",
     "output_type": "stream",
     "text": [
      "Starting XGBRegressor at 2020-01-26 10:08:34.051195\n",
      "\tEnding XGBRegressor at 2020-01-26 10:08:54.062766\n"
     ]
    },
    {
     "data": {
      "text/html": [
       "<div>\n",
       "<style scoped>\n",
       "    .dataframe tbody tr th:only-of-type {\n",
       "        vertical-align: middle;\n",
       "    }\n",
       "\n",
       "    .dataframe tbody tr th {\n",
       "        vertical-align: top;\n",
       "    }\n",
       "\n",
       "    .dataframe thead th {\n",
       "        text-align: right;\n",
       "    }\n",
       "</style>\n",
       "<table border=\"1\" class=\"dataframe\">\n",
       "  <thead>\n",
       "    <tr style=\"text-align: right;\">\n",
       "      <th></th>\n",
       "      <th>MAE</th>\n",
       "      <th>R2Score</th>\n",
       "      <th>RMSE</th>\n",
       "      <th>RunTime</th>\n",
       "      <th>LearnRate</th>\n",
       "      <th>MaxDepth</th>\n",
       "      <th>Estimators</th>\n",
       "    </tr>\n",
       "  </thead>\n",
       "  <tbody>\n",
       "    <tr>\n",
       "      <th>0</th>\n",
       "      <td>1.53296</td>\n",
       "      <td>-4.080097</td>\n",
       "      <td>2.802442</td>\n",
       "      <td>0:00:20.006572</td>\n",
       "      <td>0.05</td>\n",
       "      <td>5</td>\n",
       "      <td>10</td>\n",
       "    </tr>\n",
       "  </tbody>\n",
       "</table>\n",
       "</div>"
      ],
      "text/plain": [
       "       MAE   R2Score      RMSE         RunTime  LearnRate  MaxDepth  \\\n",
       "0  1.53296 -4.080097  2.802442  0:00:20.006572       0.05         5   \n",
       "\n",
       "   Estimators  \n",
       "0          10  "
      ]
     },
     "metadata": {},
     "output_type": "display_data"
    },
    {
     "name": "stdout",
     "output_type": "stream",
     "text": [
      "Starting XGBRegressor at 2020-01-26 10:08:54.460638\n",
      "\tEnding XGBRegressor at 2020-01-26 10:09:15.404911\n"
     ]
    },
    {
     "data": {
      "text/html": [
       "<div>\n",
       "<style scoped>\n",
       "    .dataframe tbody tr th:only-of-type {\n",
       "        vertical-align: middle;\n",
       "    }\n",
       "\n",
       "    .dataframe tbody tr th {\n",
       "        vertical-align: top;\n",
       "    }\n",
       "\n",
       "    .dataframe thead th {\n",
       "        text-align: right;\n",
       "    }\n",
       "</style>\n",
       "<table border=\"1\" class=\"dataframe\">\n",
       "  <thead>\n",
       "    <tr style=\"text-align: right;\">\n",
       "      <th></th>\n",
       "      <th>MAE</th>\n",
       "      <th>R2Score</th>\n",
       "      <th>RMSE</th>\n",
       "      <th>RunTime</th>\n",
       "      <th>LearnRate</th>\n",
       "      <th>MaxDepth</th>\n",
       "      <th>Estimators</th>\n",
       "    </tr>\n",
       "  </thead>\n",
       "  <tbody>\n",
       "    <tr>\n",
       "      <th>0</th>\n",
       "      <td>1.532958</td>\n",
       "      <td>-4.060857</td>\n",
       "      <td>2.791828</td>\n",
       "      <td>0:00:20.938274</td>\n",
       "      <td>0.05</td>\n",
       "      <td>6</td>\n",
       "      <td>10</td>\n",
       "    </tr>\n",
       "  </tbody>\n",
       "</table>\n",
       "</div>"
      ],
      "text/plain": [
       "        MAE   R2Score      RMSE         RunTime  LearnRate  MaxDepth  \\\n",
       "0  1.532958 -4.060857  2.791828  0:00:20.938274       0.05         6   \n",
       "\n",
       "   Estimators  \n",
       "0          10  "
      ]
     },
     "metadata": {},
     "output_type": "display_data"
    },
    {
     "name": "stdout",
     "output_type": "stream",
     "text": [
      "Starting XGBRegressor at 2020-01-26 10:09:15.787788\n",
      "\tEnding XGBRegressor at 2020-01-26 10:09:37.944670\n"
     ]
    },
    {
     "data": {
      "text/html": [
       "<div>\n",
       "<style scoped>\n",
       "    .dataframe tbody tr th:only-of-type {\n",
       "        vertical-align: middle;\n",
       "    }\n",
       "\n",
       "    .dataframe tbody tr th {\n",
       "        vertical-align: top;\n",
       "    }\n",
       "\n",
       "    .dataframe thead th {\n",
       "        text-align: right;\n",
       "    }\n",
       "</style>\n",
       "<table border=\"1\" class=\"dataframe\">\n",
       "  <thead>\n",
       "    <tr style=\"text-align: right;\">\n",
       "      <th></th>\n",
       "      <th>MAE</th>\n",
       "      <th>R2Score</th>\n",
       "      <th>RMSE</th>\n",
       "      <th>RunTime</th>\n",
       "      <th>LearnRate</th>\n",
       "      <th>MaxDepth</th>\n",
       "      <th>Estimators</th>\n",
       "    </tr>\n",
       "  </thead>\n",
       "  <tbody>\n",
       "    <tr>\n",
       "      <th>0</th>\n",
       "      <td>1.533023</td>\n",
       "      <td>-4.044784</td>\n",
       "      <td>2.782962</td>\n",
       "      <td>0:00:22.150884</td>\n",
       "      <td>0.05</td>\n",
       "      <td>7</td>\n",
       "      <td>10</td>\n",
       "    </tr>\n",
       "  </tbody>\n",
       "</table>\n",
       "</div>"
      ],
      "text/plain": [
       "        MAE   R2Score      RMSE         RunTime  LearnRate  MaxDepth  \\\n",
       "0  1.533023 -4.044784  2.782962  0:00:22.150884       0.05         7   \n",
       "\n",
       "   Estimators  \n",
       "0          10  "
      ]
     },
     "metadata": {},
     "output_type": "display_data"
    },
    {
     "name": "stdout",
     "output_type": "stream",
     "text": [
      "Starting XGBRegressor at 2020-01-26 10:09:38.336544\n",
      "\tEnding XGBRegressor at 2020-01-26 10:10:02.408812\n"
     ]
    },
    {
     "data": {
      "text/html": [
       "<div>\n",
       "<style scoped>\n",
       "    .dataframe tbody tr th:only-of-type {\n",
       "        vertical-align: middle;\n",
       "    }\n",
       "\n",
       "    .dataframe tbody tr th {\n",
       "        vertical-align: top;\n",
       "    }\n",
       "\n",
       "    .dataframe thead th {\n",
       "        text-align: right;\n",
       "    }\n",
       "</style>\n",
       "<table border=\"1\" class=\"dataframe\">\n",
       "  <thead>\n",
       "    <tr style=\"text-align: right;\">\n",
       "      <th></th>\n",
       "      <th>MAE</th>\n",
       "      <th>R2Score</th>\n",
       "      <th>RMSE</th>\n",
       "      <th>RunTime</th>\n",
       "      <th>LearnRate</th>\n",
       "      <th>MaxDepth</th>\n",
       "      <th>Estimators</th>\n",
       "    </tr>\n",
       "  </thead>\n",
       "  <tbody>\n",
       "    <tr>\n",
       "      <th>0</th>\n",
       "      <td>1.533316</td>\n",
       "      <td>-4.032661</td>\n",
       "      <td>2.776274</td>\n",
       "      <td>0:00:24.066270</td>\n",
       "      <td>0.05</td>\n",
       "      <td>8</td>\n",
       "      <td>10</td>\n",
       "    </tr>\n",
       "  </tbody>\n",
       "</table>\n",
       "</div>"
      ],
      "text/plain": [
       "        MAE   R2Score      RMSE         RunTime  LearnRate  MaxDepth  \\\n",
       "0  1.533316 -4.032661  2.776274  0:00:24.066270       0.05         8   \n",
       "\n",
       "   Estimators  \n",
       "0          10  "
      ]
     },
     "metadata": {},
     "output_type": "display_data"
    },
    {
     "name": "stdout",
     "output_type": "stream",
     "text": [
      "Starting XGBRegressor at 2020-01-26 10:10:02.800686\n",
      "\tEnding XGBRegressor at 2020-01-26 10:10:29.039764\n"
     ]
    },
    {
     "data": {
      "text/html": [
       "<div>\n",
       "<style scoped>\n",
       "    .dataframe tbody tr th:only-of-type {\n",
       "        vertical-align: middle;\n",
       "    }\n",
       "\n",
       "    .dataframe tbody tr th {\n",
       "        vertical-align: top;\n",
       "    }\n",
       "\n",
       "    .dataframe thead th {\n",
       "        text-align: right;\n",
       "    }\n",
       "</style>\n",
       "<table border=\"1\" class=\"dataframe\">\n",
       "  <thead>\n",
       "    <tr style=\"text-align: right;\">\n",
       "      <th></th>\n",
       "      <th>MAE</th>\n",
       "      <th>R2Score</th>\n",
       "      <th>RMSE</th>\n",
       "      <th>RunTime</th>\n",
       "      <th>LearnRate</th>\n",
       "      <th>MaxDepth</th>\n",
       "      <th>Estimators</th>\n",
       "    </tr>\n",
       "  </thead>\n",
       "  <tbody>\n",
       "    <tr>\n",
       "      <th>0</th>\n",
       "      <td>1.533246</td>\n",
       "      <td>-4.01892</td>\n",
       "      <td>2.768693</td>\n",
       "      <td>0:00:26.233080</td>\n",
       "      <td>0.05</td>\n",
       "      <td>9</td>\n",
       "      <td>10</td>\n",
       "    </tr>\n",
       "  </tbody>\n",
       "</table>\n",
       "</div>"
      ],
      "text/plain": [
       "        MAE  R2Score      RMSE         RunTime  LearnRate  MaxDepth  \\\n",
       "0  1.533246 -4.01892  2.768693  0:00:26.233080       0.05         9   \n",
       "\n",
       "   Estimators  \n",
       "0          10  "
      ]
     },
     "metadata": {},
     "output_type": "display_data"
    },
    {
     "name": "stdout",
     "output_type": "stream",
     "text": [
      "Starting XGBRegressor at 2020-01-26 10:10:29.458134\n",
      "\tEnding XGBRegressor at 2020-01-26 10:10:57.940984\n"
     ]
    },
    {
     "data": {
      "text/html": [
       "<div>\n",
       "<style scoped>\n",
       "    .dataframe tbody tr th:only-of-type {\n",
       "        vertical-align: middle;\n",
       "    }\n",
       "\n",
       "    .dataframe tbody tr th {\n",
       "        vertical-align: top;\n",
       "    }\n",
       "\n",
       "    .dataframe thead th {\n",
       "        text-align: right;\n",
       "    }\n",
       "</style>\n",
       "<table border=\"1\" class=\"dataframe\">\n",
       "  <thead>\n",
       "    <tr style=\"text-align: right;\">\n",
       "      <th></th>\n",
       "      <th>MAE</th>\n",
       "      <th>R2Score</th>\n",
       "      <th>RMSE</th>\n",
       "      <th>RunTime</th>\n",
       "      <th>LearnRate</th>\n",
       "      <th>MaxDepth</th>\n",
       "      <th>Estimators</th>\n",
       "    </tr>\n",
       "  </thead>\n",
       "  <tbody>\n",
       "    <tr>\n",
       "      <th>0</th>\n",
       "      <td>1.533467</td>\n",
       "      <td>-4.008284</td>\n",
       "      <td>2.762826</td>\n",
       "      <td>0:00:28.476852</td>\n",
       "      <td>0.05</td>\n",
       "      <td>10</td>\n",
       "      <td>10</td>\n",
       "    </tr>\n",
       "  </tbody>\n",
       "</table>\n",
       "</div>"
      ],
      "text/plain": [
       "        MAE   R2Score      RMSE         RunTime  LearnRate  MaxDepth  \\\n",
       "0  1.533467 -4.008284  2.762826  0:00:28.476852       0.05        10   \n",
       "\n",
       "   Estimators  \n",
       "0          10  "
      ]
     },
     "metadata": {},
     "output_type": "display_data"
    },
    {
     "name": "stdout",
     "output_type": "stream",
     "text": [
      "Starting XGBRegressor at 2020-01-26 10:10:58.335858\n",
      "\tEnding XGBRegressor at 2020-01-26 10:11:29.642801\n"
     ]
    },
    {
     "data": {
      "text/html": [
       "<div>\n",
       "<style scoped>\n",
       "    .dataframe tbody tr th:only-of-type {\n",
       "        vertical-align: middle;\n",
       "    }\n",
       "\n",
       "    .dataframe tbody tr th {\n",
       "        vertical-align: top;\n",
       "    }\n",
       "\n",
       "    .dataframe thead th {\n",
       "        text-align: right;\n",
       "    }\n",
       "</style>\n",
       "<table border=\"1\" class=\"dataframe\">\n",
       "  <thead>\n",
       "    <tr style=\"text-align: right;\">\n",
       "      <th></th>\n",
       "      <th>MAE</th>\n",
       "      <th>R2Score</th>\n",
       "      <th>RMSE</th>\n",
       "      <th>RunTime</th>\n",
       "      <th>LearnRate</th>\n",
       "      <th>MaxDepth</th>\n",
       "      <th>Estimators</th>\n",
       "    </tr>\n",
       "  </thead>\n",
       "  <tbody>\n",
       "    <tr>\n",
       "      <th>0</th>\n",
       "      <td>1.533735</td>\n",
       "      <td>-3.99874</td>\n",
       "      <td>2.757561</td>\n",
       "      <td>0:00:31.300945</td>\n",
       "      <td>0.05</td>\n",
       "      <td>11</td>\n",
       "      <td>10</td>\n",
       "    </tr>\n",
       "  </tbody>\n",
       "</table>\n",
       "</div>"
      ],
      "text/plain": [
       "        MAE  R2Score      RMSE         RunTime  LearnRate  MaxDepth  \\\n",
       "0  1.533735 -3.99874  2.757561  0:00:31.300945       0.05        11   \n",
       "\n",
       "   Estimators  \n",
       "0          10  "
      ]
     },
     "metadata": {},
     "output_type": "display_data"
    },
    {
     "name": "stdout",
     "output_type": "stream",
     "text": [
      "Starting XGBRegressor at 2020-01-26 10:11:30.042673\n",
      "\tEnding XGBRegressor at 2020-01-26 10:12:04.380643\n"
     ]
    },
    {
     "data": {
      "text/html": [
       "<div>\n",
       "<style scoped>\n",
       "    .dataframe tbody tr th:only-of-type {\n",
       "        vertical-align: middle;\n",
       "    }\n",
       "\n",
       "    .dataframe tbody tr th {\n",
       "        vertical-align: top;\n",
       "    }\n",
       "\n",
       "    .dataframe thead th {\n",
       "        text-align: right;\n",
       "    }\n",
       "</style>\n",
       "<table border=\"1\" class=\"dataframe\">\n",
       "  <thead>\n",
       "    <tr style=\"text-align: right;\">\n",
       "      <th></th>\n",
       "      <th>MAE</th>\n",
       "      <th>R2Score</th>\n",
       "      <th>RMSE</th>\n",
       "      <th>RunTime</th>\n",
       "      <th>LearnRate</th>\n",
       "      <th>MaxDepth</th>\n",
       "      <th>Estimators</th>\n",
       "    </tr>\n",
       "  </thead>\n",
       "  <tbody>\n",
       "    <tr>\n",
       "      <th>0</th>\n",
       "      <td>1.533958</td>\n",
       "      <td>-3.99128</td>\n",
       "      <td>2.753446</td>\n",
       "      <td>0:00:34.332971</td>\n",
       "      <td>0.05</td>\n",
       "      <td>12</td>\n",
       "      <td>10</td>\n",
       "    </tr>\n",
       "  </tbody>\n",
       "</table>\n",
       "</div>"
      ],
      "text/plain": [
       "        MAE  R2Score      RMSE         RunTime  LearnRate  MaxDepth  \\\n",
       "0  1.533958 -3.99128  2.753446  0:00:34.332971       0.05        12   \n",
       "\n",
       "   Estimators  \n",
       "0          10  "
      ]
     },
     "metadata": {},
     "output_type": "display_data"
    },
    {
     "name": "stdout",
     "output_type": "stream",
     "text": [
      "Starting XGBRegressor at 2020-01-26 10:12:04.788512\n",
      "\tEnding XGBRegressor at 2020-01-26 10:12:23.329555\n"
     ]
    },
    {
     "data": {
      "text/html": [
       "<div>\n",
       "<style scoped>\n",
       "    .dataframe tbody tr th:only-of-type {\n",
       "        vertical-align: middle;\n",
       "    }\n",
       "\n",
       "    .dataframe tbody tr th {\n",
       "        vertical-align: top;\n",
       "    }\n",
       "\n",
       "    .dataframe thead th {\n",
       "        text-align: right;\n",
       "    }\n",
       "</style>\n",
       "<table border=\"1\" class=\"dataframe\">\n",
       "  <thead>\n",
       "    <tr style=\"text-align: right;\">\n",
       "      <th></th>\n",
       "      <th>MAE</th>\n",
       "      <th>R2Score</th>\n",
       "      <th>RMSE</th>\n",
       "      <th>RunTime</th>\n",
       "      <th>LearnRate</th>\n",
       "      <th>MaxDepth</th>\n",
       "      <th>Estimators</th>\n",
       "    </tr>\n",
       "  </thead>\n",
       "  <tbody>\n",
       "    <tr>\n",
       "      <th>0</th>\n",
       "      <td>0.927763</td>\n",
       "      <td>-1.2373</td>\n",
       "      <td>1.234209</td>\n",
       "      <td>0:00:18.535045</td>\n",
       "      <td>0.1</td>\n",
       "      <td>3</td>\n",
       "      <td>10</td>\n",
       "    </tr>\n",
       "  </tbody>\n",
       "</table>\n",
       "</div>"
      ],
      "text/plain": [
       "        MAE  R2Score      RMSE         RunTime  LearnRate  MaxDepth  \\\n",
       "0  0.927763  -1.2373  1.234209  0:00:18.535045        0.1         3   \n",
       "\n",
       "   Estimators  \n",
       "0          10  "
      ]
     },
     "metadata": {},
     "output_type": "display_data"
    },
    {
     "name": "stdout",
     "output_type": "stream",
     "text": [
      "Starting XGBRegressor at 2020-01-26 10:12:23.752420\n",
      "\tEnding XGBRegressor at 2020-01-26 10:12:42.825293\n"
     ]
    },
    {
     "data": {
      "text/html": [
       "<div>\n",
       "<style scoped>\n",
       "    .dataframe tbody tr th:only-of-type {\n",
       "        vertical-align: middle;\n",
       "    }\n",
       "\n",
       "    .dataframe tbody tr th {\n",
       "        vertical-align: top;\n",
       "    }\n",
       "\n",
       "    .dataframe thead th {\n",
       "        text-align: right;\n",
       "    }\n",
       "</style>\n",
       "<table border=\"1\" class=\"dataframe\">\n",
       "  <thead>\n",
       "    <tr style=\"text-align: right;\">\n",
       "      <th></th>\n",
       "      <th>MAE</th>\n",
       "      <th>R2Score</th>\n",
       "      <th>RMSE</th>\n",
       "      <th>RunTime</th>\n",
       "      <th>LearnRate</th>\n",
       "      <th>MaxDepth</th>\n",
       "      <th>Estimators</th>\n",
       "    </tr>\n",
       "  </thead>\n",
       "  <tbody>\n",
       "    <tr>\n",
       "      <th>0</th>\n",
       "      <td>0.924171</td>\n",
       "      <td>-1.200598</td>\n",
       "      <td>1.213963</td>\n",
       "      <td>0:00:19.067874</td>\n",
       "      <td>0.1</td>\n",
       "      <td>4</td>\n",
       "      <td>10</td>\n",
       "    </tr>\n",
       "  </tbody>\n",
       "</table>\n",
       "</div>"
      ],
      "text/plain": [
       "        MAE   R2Score      RMSE         RunTime  LearnRate  MaxDepth  \\\n",
       "0  0.924171 -1.200598  1.213963  0:00:19.067874        0.1         4   \n",
       "\n",
       "   Estimators  \n",
       "0          10  "
      ]
     },
     "metadata": {},
     "output_type": "display_data"
    },
    {
     "name": "stdout",
     "output_type": "stream",
     "text": [
      "Starting XGBRegressor at 2020-01-26 10:12:43.209170\n",
      "\tEnding XGBRegressor at 2020-01-26 10:13:02.941831\n"
     ]
    },
    {
     "data": {
      "text/html": [
       "<div>\n",
       "<style scoped>\n",
       "    .dataframe tbody tr th:only-of-type {\n",
       "        vertical-align: middle;\n",
       "    }\n",
       "\n",
       "    .dataframe tbody tr th {\n",
       "        vertical-align: top;\n",
       "    }\n",
       "\n",
       "    .dataframe thead th {\n",
       "        text-align: right;\n",
       "    }\n",
       "</style>\n",
       "<table border=\"1\" class=\"dataframe\">\n",
       "  <thead>\n",
       "    <tr style=\"text-align: right;\">\n",
       "      <th></th>\n",
       "      <th>MAE</th>\n",
       "      <th>R2Score</th>\n",
       "      <th>RMSE</th>\n",
       "      <th>RunTime</th>\n",
       "      <th>LearnRate</th>\n",
       "      <th>MaxDepth</th>\n",
       "      <th>Estimators</th>\n",
       "    </tr>\n",
       "  </thead>\n",
       "  <tbody>\n",
       "    <tr>\n",
       "      <th>0</th>\n",
       "      <td>0.921691</td>\n",
       "      <td>-1.169522</td>\n",
       "      <td>1.196819</td>\n",
       "      <td>0:00:19.726664</td>\n",
       "      <td>0.1</td>\n",
       "      <td>5</td>\n",
       "      <td>10</td>\n",
       "    </tr>\n",
       "  </tbody>\n",
       "</table>\n",
       "</div>"
      ],
      "text/plain": [
       "        MAE   R2Score      RMSE         RunTime  LearnRate  MaxDepth  \\\n",
       "0  0.921691 -1.169522  1.196819  0:00:19.726664        0.1         5   \n",
       "\n",
       "   Estimators  \n",
       "0          10  "
      ]
     },
     "metadata": {},
     "output_type": "display_data"
    },
    {
     "name": "stdout",
     "output_type": "stream",
     "text": [
      "Starting XGBRegressor at 2020-01-26 10:13:03.346701\n",
      "\tEnding XGBRegressor at 2020-01-26 10:13:24.134529\n"
     ]
    },
    {
     "data": {
      "text/html": [
       "<div>\n",
       "<style scoped>\n",
       "    .dataframe tbody tr th:only-of-type {\n",
       "        vertical-align: middle;\n",
       "    }\n",
       "\n",
       "    .dataframe tbody tr th {\n",
       "        vertical-align: top;\n",
       "    }\n",
       "\n",
       "    .dataframe thead th {\n",
       "        text-align: right;\n",
       "    }\n",
       "</style>\n",
       "<table border=\"1\" class=\"dataframe\">\n",
       "  <thead>\n",
       "    <tr style=\"text-align: right;\">\n",
       "      <th></th>\n",
       "      <th>MAE</th>\n",
       "      <th>R2Score</th>\n",
       "      <th>RMSE</th>\n",
       "      <th>RunTime</th>\n",
       "      <th>LearnRate</th>\n",
       "      <th>MaxDepth</th>\n",
       "      <th>Estimators</th>\n",
       "    </tr>\n",
       "  </thead>\n",
       "  <tbody>\n",
       "    <tr>\n",
       "      <th>0</th>\n",
       "      <td>0.920289</td>\n",
       "      <td>-1.145548</td>\n",
       "      <td>1.183594</td>\n",
       "      <td>0:00:20.782829</td>\n",
       "      <td>0.1</td>\n",
       "      <td>6</td>\n",
       "      <td>10</td>\n",
       "    </tr>\n",
       "  </tbody>\n",
       "</table>\n",
       "</div>"
      ],
      "text/plain": [
       "        MAE   R2Score      RMSE         RunTime  LearnRate  MaxDepth  \\\n",
       "0  0.920289 -1.145548  1.183594  0:00:20.782829        0.1         6   \n",
       "\n",
       "   Estimators  \n",
       "0          10  "
      ]
     },
     "metadata": {},
     "output_type": "display_data"
    },
    {
     "name": "stdout",
     "output_type": "stream",
     "text": [
      "Starting XGBRegressor at 2020-01-26 10:13:24.519405\n",
      "\tEnding XGBRegressor at 2020-01-26 10:13:46.628303\n"
     ]
    },
    {
     "data": {
      "text/html": [
       "<div>\n",
       "<style scoped>\n",
       "    .dataframe tbody tr th:only-of-type {\n",
       "        vertical-align: middle;\n",
       "    }\n",
       "\n",
       "    .dataframe tbody tr th {\n",
       "        vertical-align: top;\n",
       "    }\n",
       "\n",
       "    .dataframe thead th {\n",
       "        text-align: right;\n",
       "    }\n",
       "</style>\n",
       "<table border=\"1\" class=\"dataframe\">\n",
       "  <thead>\n",
       "    <tr style=\"text-align: right;\">\n",
       "      <th></th>\n",
       "      <th>MAE</th>\n",
       "      <th>R2Score</th>\n",
       "      <th>RMSE</th>\n",
       "      <th>RunTime</th>\n",
       "      <th>LearnRate</th>\n",
       "      <th>MaxDepth</th>\n",
       "      <th>Estimators</th>\n",
       "    </tr>\n",
       "  </thead>\n",
       "  <tbody>\n",
       "    <tr>\n",
       "      <th>0</th>\n",
       "      <td>0.917756</td>\n",
       "      <td>-1.120448</td>\n",
       "      <td>1.169748</td>\n",
       "      <td>0:00:22.103900</td>\n",
       "      <td>0.1</td>\n",
       "      <td>7</td>\n",
       "      <td>10</td>\n",
       "    </tr>\n",
       "  </tbody>\n",
       "</table>\n",
       "</div>"
      ],
      "text/plain": [
       "        MAE   R2Score      RMSE         RunTime  LearnRate  MaxDepth  \\\n",
       "0  0.917756 -1.120448  1.169748  0:00:22.103900        0.1         7   \n",
       "\n",
       "   Estimators  \n",
       "0          10  "
      ]
     },
     "metadata": {},
     "output_type": "display_data"
    },
    {
     "name": "stdout",
     "output_type": "stream",
     "text": [
      "Starting XGBRegressor at 2020-01-26 10:13:47.020177\n",
      "\tEnding XGBRegressor at 2020-01-26 10:14:11.282384\n"
     ]
    },
    {
     "data": {
      "text/html": [
       "<div>\n",
       "<style scoped>\n",
       "    .dataframe tbody tr th:only-of-type {\n",
       "        vertical-align: middle;\n",
       "    }\n",
       "\n",
       "    .dataframe tbody tr th {\n",
       "        vertical-align: top;\n",
       "    }\n",
       "\n",
       "    .dataframe thead th {\n",
       "        text-align: right;\n",
       "    }\n",
       "</style>\n",
       "<table border=\"1\" class=\"dataframe\">\n",
       "  <thead>\n",
       "    <tr style=\"text-align: right;\">\n",
       "      <th></th>\n",
       "      <th>MAE</th>\n",
       "      <th>R2Score</th>\n",
       "      <th>RMSE</th>\n",
       "      <th>RunTime</th>\n",
       "      <th>LearnRate</th>\n",
       "      <th>MaxDepth</th>\n",
       "      <th>Estimators</th>\n",
       "    </tr>\n",
       "  </thead>\n",
       "  <tbody>\n",
       "    <tr>\n",
       "      <th>0</th>\n",
       "      <td>0.916844</td>\n",
       "      <td>-1.102582</td>\n",
       "      <td>1.159892</td>\n",
       "      <td>0:00:24.257208</td>\n",
       "      <td>0.1</td>\n",
       "      <td>8</td>\n",
       "      <td>10</td>\n",
       "    </tr>\n",
       "  </tbody>\n",
       "</table>\n",
       "</div>"
      ],
      "text/plain": [
       "        MAE   R2Score      RMSE         RunTime  LearnRate  MaxDepth  \\\n",
       "0  0.916844 -1.102582  1.159892  0:00:24.257208        0.1         8   \n",
       "\n",
       "   Estimators  \n",
       "0          10  "
      ]
     },
     "metadata": {},
     "output_type": "display_data"
    },
    {
     "name": "stdout",
     "output_type": "stream",
     "text": [
      "Starting XGBRegressor at 2020-01-26 10:14:11.685255\n",
      "\tEnding XGBRegressor at 2020-01-26 10:14:38.238725\n"
     ]
    },
    {
     "data": {
      "text/html": [
       "<div>\n",
       "<style scoped>\n",
       "    .dataframe tbody tr th:only-of-type {\n",
       "        vertical-align: middle;\n",
       "    }\n",
       "\n",
       "    .dataframe tbody tr th {\n",
       "        vertical-align: top;\n",
       "    }\n",
       "\n",
       "    .dataframe thead th {\n",
       "        text-align: right;\n",
       "    }\n",
       "</style>\n",
       "<table border=\"1\" class=\"dataframe\">\n",
       "  <thead>\n",
       "    <tr style=\"text-align: right;\">\n",
       "      <th></th>\n",
       "      <th>MAE</th>\n",
       "      <th>R2Score</th>\n",
       "      <th>RMSE</th>\n",
       "      <th>RunTime</th>\n",
       "      <th>LearnRate</th>\n",
       "      <th>MaxDepth</th>\n",
       "      <th>Estimators</th>\n",
       "    </tr>\n",
       "  </thead>\n",
       "  <tbody>\n",
       "    <tr>\n",
       "      <th>0</th>\n",
       "      <td>0.916586</td>\n",
       "      <td>-1.087505</td>\n",
       "      <td>1.151575</td>\n",
       "      <td>0:00:26.547471</td>\n",
       "      <td>0.1</td>\n",
       "      <td>9</td>\n",
       "      <td>10</td>\n",
       "    </tr>\n",
       "  </tbody>\n",
       "</table>\n",
       "</div>"
      ],
      "text/plain": [
       "        MAE   R2Score      RMSE         RunTime  LearnRate  MaxDepth  \\\n",
       "0  0.916586 -1.087505  1.151575  0:00:26.547471        0.1         9   \n",
       "\n",
       "   Estimators  \n",
       "0          10  "
      ]
     },
     "metadata": {},
     "output_type": "display_data"
    },
    {
     "name": "stdout",
     "output_type": "stream",
     "text": [
      "Starting XGBRegressor at 2020-01-26 10:14:38.631598\n",
      "\tEnding XGBRegressor at 2020-01-26 10:15:08.184105\n"
     ]
    },
    {
     "data": {
      "text/html": [
       "<div>\n",
       "<style scoped>\n",
       "    .dataframe tbody tr th:only-of-type {\n",
       "        vertical-align: middle;\n",
       "    }\n",
       "\n",
       "    .dataframe tbody tr th {\n",
       "        vertical-align: top;\n",
       "    }\n",
       "\n",
       "    .dataframe thead th {\n",
       "        text-align: right;\n",
       "    }\n",
       "</style>\n",
       "<table border=\"1\" class=\"dataframe\">\n",
       "  <thead>\n",
       "    <tr style=\"text-align: right;\">\n",
       "      <th></th>\n",
       "      <th>MAE</th>\n",
       "      <th>R2Score</th>\n",
       "      <th>RMSE</th>\n",
       "      <th>RunTime</th>\n",
       "      <th>LearnRate</th>\n",
       "      <th>MaxDepth</th>\n",
       "      <th>Estimators</th>\n",
       "    </tr>\n",
       "  </thead>\n",
       "  <tbody>\n",
       "    <tr>\n",
       "      <th>0</th>\n",
       "      <td>0.916057</td>\n",
       "      <td>-1.073581</td>\n",
       "      <td>1.143894</td>\n",
       "      <td>0:00:29.547509</td>\n",
       "      <td>0.1</td>\n",
       "      <td>10</td>\n",
       "      <td>10</td>\n",
       "    </tr>\n",
       "  </tbody>\n",
       "</table>\n",
       "</div>"
      ],
      "text/plain": [
       "        MAE   R2Score      RMSE         RunTime  LearnRate  MaxDepth  \\\n",
       "0  0.916057 -1.073581  1.143894  0:00:29.547509        0.1        10   \n",
       "\n",
       "   Estimators  \n",
       "0          10  "
      ]
     },
     "metadata": {},
     "output_type": "display_data"
    },
    {
     "name": "stdout",
     "output_type": "stream",
     "text": [
      "Starting XGBRegressor at 2020-01-26 10:15:08.586976\n"
     ]
    },
    {
     "ename": "KeyboardInterrupt",
     "evalue": "",
     "output_type": "error",
     "traceback": [
      "\u001b[1;31m---------------------------------------------------------------------------\u001b[0m",
      "\u001b[1;31mKeyboardInterrupt\u001b[0m                         Traceback (most recent call last)",
      "\u001b[1;32m<ipython-input-3-6a33e562a720>\u001b[0m in \u001b[0;36m<module>\u001b[1;34m\u001b[0m\n\u001b[0;32m     21\u001b[0m                                         \u001b[0mnthread\u001b[0m \u001b[1;33m=\u001b[0m \u001b[1;36m10\u001b[0m\u001b[1;33m,\u001b[0m\u001b[1;33m\u001b[0m\u001b[1;33m\u001b[0m\u001b[0m\n\u001b[0;32m     22\u001b[0m                                        )\n\u001b[1;32m---> 23\u001b[1;33m                 \u001b[0mtestTrainResults\u001b[0m \u001b[1;33m=\u001b[0m \u001b[0mAssessXGBRegression\u001b[0m\u001b[1;33m(\u001b[0m\u001b[0mTrain_X\u001b[0m\u001b[1;33m,\u001b[0m \u001b[0mTrain_Y\u001b[0m\u001b[1;33m,\u001b[0m \u001b[0mTest_X\u001b[0m\u001b[1;33m,\u001b[0m \u001b[0mTest_Y\u001b[0m\u001b[1;33m,\u001b[0m \u001b[0mModel\u001b[0m \u001b[1;33m=\u001b[0m \u001b[0mxgbModel\u001b[0m\u001b[1;33m)\u001b[0m\u001b[1;33m\u001b[0m\u001b[1;33m\u001b[0m\u001b[0m\n\u001b[0m\u001b[0;32m     24\u001b[0m                 \u001b[0mtestTrainResults\u001b[0m\u001b[1;33m[\u001b[0m\u001b[1;34m\"LearnRate\"\u001b[0m\u001b[1;33m]\u001b[0m \u001b[1;33m=\u001b[0m \u001b[0mlearningRate\u001b[0m\u001b[1;33m\u001b[0m\u001b[1;33m\u001b[0m\u001b[0m\n\u001b[0;32m     25\u001b[0m                 \u001b[0mtestTrainResults\u001b[0m\u001b[1;33m[\u001b[0m\u001b[1;34m\"MaxDepth\"\u001b[0m\u001b[1;33m]\u001b[0m \u001b[1;33m=\u001b[0m \u001b[0mmaxDepth\u001b[0m\u001b[1;33m\u001b[0m\u001b[1;33m\u001b[0m\u001b[0m\n",
      "\u001b[1;32m<ipython-input-2-9cb6723c0a5f>\u001b[0m in \u001b[0;36mAssessXGBRegression\u001b[1;34m(x_train, y_train, x_test, y_test, Model)\u001b[0m\n\u001b[0;32m     14\u001b[0m     \u001b[0mprint\u001b[0m\u001b[1;33m(\u001b[0m\u001b[1;34m\"Starting XGBRegressor at \"\u001b[0m \u001b[1;33m+\u001b[0m \u001b[0mstr\u001b[0m\u001b[1;33m(\u001b[0m\u001b[0mloopStartTime\u001b[0m\u001b[1;33m)\u001b[0m\u001b[1;33m)\u001b[0m\u001b[1;33m\u001b[0m\u001b[1;33m\u001b[0m\u001b[0m\n\u001b[0;32m     15\u001b[0m \u001b[1;33m\u001b[0m\u001b[0m\n\u001b[1;32m---> 16\u001b[1;33m     \u001b[0mModel\u001b[0m\u001b[1;33m.\u001b[0m\u001b[0mfit\u001b[0m\u001b[1;33m(\u001b[0m\u001b[0mx_train\u001b[0m\u001b[1;33m,\u001b[0m \u001b[0my_train\u001b[0m\u001b[1;33m)\u001b[0m\u001b[1;33m\u001b[0m\u001b[1;33m\u001b[0m\u001b[0m\n\u001b[0m\u001b[0;32m     17\u001b[0m     \u001b[0mxgbPredictor\u001b[0m \u001b[1;33m=\u001b[0m \u001b[0mModel\u001b[0m\u001b[1;33m.\u001b[0m\u001b[0mpredict\u001b[0m\u001b[1;33m(\u001b[0m\u001b[0mx_test\u001b[0m\u001b[1;33m)\u001b[0m\u001b[1;33m\u001b[0m\u001b[1;33m\u001b[0m\u001b[0m\n\u001b[0;32m     18\u001b[0m \u001b[1;33m\u001b[0m\u001b[0m\n",
      "\u001b[1;32m~\\.conda\\envs\\DataScience\\lib\\site-packages\\xgboost\\sklearn.py\u001b[0m in \u001b[0;36mfit\u001b[1;34m(self, X, y, sample_weight, eval_set, eval_metric, early_stopping_rounds, verbose, xgb_model, sample_weight_eval_set, callbacks)\u001b[0m\n\u001b[0;32m    394\u001b[0m                               \u001b[0mevals_result\u001b[0m\u001b[1;33m=\u001b[0m\u001b[0mevals_result\u001b[0m\u001b[1;33m,\u001b[0m \u001b[0mobj\u001b[0m\u001b[1;33m=\u001b[0m\u001b[0mobj\u001b[0m\u001b[1;33m,\u001b[0m \u001b[0mfeval\u001b[0m\u001b[1;33m=\u001b[0m\u001b[0mfeval\u001b[0m\u001b[1;33m,\u001b[0m\u001b[1;33m\u001b[0m\u001b[1;33m\u001b[0m\u001b[0m\n\u001b[0;32m    395\u001b[0m                               \u001b[0mverbose_eval\u001b[0m\u001b[1;33m=\u001b[0m\u001b[0mverbose\u001b[0m\u001b[1;33m,\u001b[0m \u001b[0mxgb_model\u001b[0m\u001b[1;33m=\u001b[0m\u001b[0mxgb_model\u001b[0m\u001b[1;33m,\u001b[0m\u001b[1;33m\u001b[0m\u001b[1;33m\u001b[0m\u001b[0m\n\u001b[1;32m--> 396\u001b[1;33m                               callbacks=callbacks)\n\u001b[0m\u001b[0;32m    397\u001b[0m \u001b[1;33m\u001b[0m\u001b[0m\n\u001b[0;32m    398\u001b[0m         \u001b[1;32mif\u001b[0m \u001b[0mevals_result\u001b[0m\u001b[1;33m:\u001b[0m\u001b[1;33m\u001b[0m\u001b[1;33m\u001b[0m\u001b[0m\n",
      "\u001b[1;32m~\\.conda\\envs\\DataScience\\lib\\site-packages\\xgboost\\training.py\u001b[0m in \u001b[0;36mtrain\u001b[1;34m(params, dtrain, num_boost_round, evals, obj, feval, maximize, early_stopping_rounds, evals_result, verbose_eval, xgb_model, callbacks, learning_rates)\u001b[0m\n\u001b[0;32m    214\u001b[0m                            \u001b[0mevals\u001b[0m\u001b[1;33m=\u001b[0m\u001b[0mevals\u001b[0m\u001b[1;33m,\u001b[0m\u001b[1;33m\u001b[0m\u001b[1;33m\u001b[0m\u001b[0m\n\u001b[0;32m    215\u001b[0m                            \u001b[0mobj\u001b[0m\u001b[1;33m=\u001b[0m\u001b[0mobj\u001b[0m\u001b[1;33m,\u001b[0m \u001b[0mfeval\u001b[0m\u001b[1;33m=\u001b[0m\u001b[0mfeval\u001b[0m\u001b[1;33m,\u001b[0m\u001b[1;33m\u001b[0m\u001b[1;33m\u001b[0m\u001b[0m\n\u001b[1;32m--> 216\u001b[1;33m                            xgb_model=xgb_model, callbacks=callbacks)\n\u001b[0m\u001b[0;32m    217\u001b[0m \u001b[1;33m\u001b[0m\u001b[0m\n\u001b[0;32m    218\u001b[0m \u001b[1;33m\u001b[0m\u001b[0m\n",
      "\u001b[1;32m~\\.conda\\envs\\DataScience\\lib\\site-packages\\xgboost\\training.py\u001b[0m in \u001b[0;36m_train_internal\u001b[1;34m(params, dtrain, num_boost_round, evals, obj, feval, xgb_model, callbacks)\u001b[0m\n\u001b[0;32m     72\u001b[0m         \u001b[1;31m# Skip the first update if it is a recovery step.\u001b[0m\u001b[1;33m\u001b[0m\u001b[1;33m\u001b[0m\u001b[1;33m\u001b[0m\u001b[0m\n\u001b[0;32m     73\u001b[0m         \u001b[1;32mif\u001b[0m \u001b[0mversion\u001b[0m \u001b[1;33m%\u001b[0m \u001b[1;36m2\u001b[0m \u001b[1;33m==\u001b[0m \u001b[1;36m0\u001b[0m\u001b[1;33m:\u001b[0m\u001b[1;33m\u001b[0m\u001b[1;33m\u001b[0m\u001b[0m\n\u001b[1;32m---> 74\u001b[1;33m             \u001b[0mbst\u001b[0m\u001b[1;33m.\u001b[0m\u001b[0mupdate\u001b[0m\u001b[1;33m(\u001b[0m\u001b[0mdtrain\u001b[0m\u001b[1;33m,\u001b[0m \u001b[0mi\u001b[0m\u001b[1;33m,\u001b[0m \u001b[0mobj\u001b[0m\u001b[1;33m)\u001b[0m\u001b[1;33m\u001b[0m\u001b[1;33m\u001b[0m\u001b[0m\n\u001b[0m\u001b[0;32m     75\u001b[0m             \u001b[0mbst\u001b[0m\u001b[1;33m.\u001b[0m\u001b[0msave_rabit_checkpoint\u001b[0m\u001b[1;33m(\u001b[0m\u001b[1;33m)\u001b[0m\u001b[1;33m\u001b[0m\u001b[1;33m\u001b[0m\u001b[0m\n\u001b[0;32m     76\u001b[0m             \u001b[0mversion\u001b[0m \u001b[1;33m+=\u001b[0m \u001b[1;36m1\u001b[0m\u001b[1;33m\u001b[0m\u001b[1;33m\u001b[0m\u001b[0m\n",
      "\u001b[1;32m~\\.conda\\envs\\DataScience\\lib\\site-packages\\xgboost\\core.py\u001b[0m in \u001b[0;36mupdate\u001b[1;34m(self, dtrain, iteration, fobj)\u001b[0m\n\u001b[0;32m   1107\u001b[0m         \u001b[1;32mif\u001b[0m \u001b[0mfobj\u001b[0m \u001b[1;32mis\u001b[0m \u001b[1;32mNone\u001b[0m\u001b[1;33m:\u001b[0m\u001b[1;33m\u001b[0m\u001b[1;33m\u001b[0m\u001b[0m\n\u001b[0;32m   1108\u001b[0m             _check_call(_LIB.XGBoosterUpdateOneIter(self.handle, ctypes.c_int(iteration),\n\u001b[1;32m-> 1109\u001b[1;33m                                                     dtrain.handle))\n\u001b[0m\u001b[0;32m   1110\u001b[0m         \u001b[1;32melse\u001b[0m\u001b[1;33m:\u001b[0m\u001b[1;33m\u001b[0m\u001b[1;33m\u001b[0m\u001b[0m\n\u001b[0;32m   1111\u001b[0m             \u001b[0mpred\u001b[0m \u001b[1;33m=\u001b[0m \u001b[0mself\u001b[0m\u001b[1;33m.\u001b[0m\u001b[0mpredict\u001b[0m\u001b[1;33m(\u001b[0m\u001b[0mdtrain\u001b[0m\u001b[1;33m)\u001b[0m\u001b[1;33m\u001b[0m\u001b[1;33m\u001b[0m\u001b[0m\n",
      "\u001b[1;31mKeyboardInterrupt\u001b[0m: "
     ]
    }
   ],
   "source": [
    "#import pandas as pd\n",
    "#XGBResults = pd.DataFrame()\n",
    "from xgboost import XGBRegressor\n",
    "with open(\"P:\\\\Temp\\\\XGBRegressorResults.dat\", \"wb\") as filePath:\n",
    "    # Instantiate model parameters to vary\n",
    "    estimator_List = [10, 50, 100, 200, 400]\n",
    "    learningRate_List = [0.01, 0.05, 0.1, 0.33, 0.5]\n",
    "    maxDepth_List = [3, 4, 5, 6, 7, 8, 9, 10, 11, 12]\n",
    "    \n",
    "    # Model every combination\n",
    "    for estimatorsCount in estimator_List:\n",
    "        import warnings\n",
    "        warnings.simplefilter(action='ignore', category=FutureWarning)\n",
    "        for learningRate in learningRate_List:\n",
    "            for maxDepth in maxDepth_List:\n",
    "\n",
    "                xgbModel = XGBRegressor(objective = \"reg:squarederror\",\n",
    "                                        colsample_bytree = 1,\n",
    "                                        colsample_bylevel = 1,\n",
    "                                        colsample_bynode = 1,\n",
    "                                        learning_rate = learningRate,\n",
    "                                        max_depth = maxDepth,\n",
    "                                        tree_method = \"hist\",\n",
    "                                        grow_policy = \"lossguide\",\n",
    "                                        n_estimators = estimatorsCount,\n",
    "                                        nthread = 10,\n",
    "                                       )\n",
    "                testTrainResults = AssessXGBRegression(Train_X, Train_Y, Test_X, Test_Y, Model = xgbModel)\n",
    "                testTrainResults[\"LearnRate\"] = learningRate\n",
    "                testTrainResults[\"MaxDepth\"] = maxDepth\n",
    "                testTrainResults[\"Estimators\"] = estimatorsCount\n",
    "\n",
    "                with pd.option_context(\"display.max_rows\", None, \"display.max_columns\", None, \"display.max_colwidth\", 1000):\n",
    "                    display(testTrainResults.drop([\"Name\", \"ModelData\"], axis = 1))\n",
    "\n",
    "                #XGBResults = XGBResults.append(testTrainResults, ignore_index = True)\n",
    "\n",
    "                pickle.dump(testTrainResults, file=filePath)\n",
    "                \n",
    "print(\"Loops Complete.\")"
   ]
  },
  {
   "cell_type": "code",
   "execution_count": null,
   "metadata": {},
   "outputs": [],
   "source": [
    "XGBResults"
   ]
  },
  {
   "cell_type": "code",
   "execution_count": null,
   "metadata": {},
   "outputs": [],
   "source": [
    "testTrainResults"
   ]
  },
  {
   "cell_type": "code",
   "execution_count": null,
   "metadata": {},
   "outputs": [],
   "source": []
  },
  {
   "cell_type": "code",
   "execution_count": null,
   "metadata": {},
   "outputs": [],
   "source": []
  },
  {
   "cell_type": "code",
   "execution_count": 15,
   "metadata": {
    "scrolled": true
   },
   "outputs": [
    {
     "name": "stdout",
     "output_type": "stream",
     "text": [
      "Starting XGBRegressor at 2020-01-26 12:58:10.467368\n",
      "\tEnding XGBRegressor at 2020-01-26 13:10:05.905553\n",
      "        MAE          Name   R2Score      RMSE         RunTime\n",
      "0  0.530468  XGBRegressor  0.255024  0.410967  0:11:55.432187\n"
     ]
    }
   ],
   "source": [
    "XGBResults = AssessXGBRegression(Train_X, Train_Y, Test_X, Test_Y,\n",
    "                                 XGBRegressor(objective = \"reg:squarederror\",\n",
    "                                              colsample_bytree = 1,\n",
    "                                              colsample_bylevel = 1,\n",
    "                                              colsample_bynode = 1,\n",
    "                                              learning_rate = 0.0025,\n",
    "                                              max_depth = 9,\n",
    "                                              tree_method = \"hist\",\n",
    "                                              grow_policy = \"lossguide\",\n",
    "                                              n_estimators = 800,\n",
    "                                              nthread = 6,\n",
    "                                             )\n",
    "                                )\n",
    "\n",
    "with pd.option_context(\"display.max_rows\", None, \"display.max_columns\", None, \"display.max_colwidth\", 1000):\n",
    "    print(XGBResults.drop(\"ModelData\", axis = 1))"
   ]
  },
  {
   "cell_type": "code",
   "execution_count": 14,
   "metadata": {},
   "outputs": [],
   "source": [
    "import pickle\n",
    "with open(\"XGBRegressorResults.dat\", \"wb\") as filePath:\n",
    "    pickle.dump(XGBResults, file=filePath)"
   ]
  },
  {
   "cell_type": "code",
   "execution_count": null,
   "metadata": {},
   "outputs": [],
   "source": []
  },
  {
   "cell_type": "code",
   "execution_count": 6,
   "metadata": {
    "scrolled": true
   },
   "outputs": [
    {
     "name": "stdout",
     "output_type": "stream",
     "text": [
      "Starting XGBRegressor at 2020-01-25 06:40:08.869883\n",
      "\tLearning Rate:  0.1 \tTree Depth:  6\n",
      "\tEnding XGBRegressor at 2020-01-25 06:42:26.360086\n",
      "           Name  R2 Score  RMS Error  Mean Absolute Error   ExecutionTime  \\\n",
      "0  XGBRegressor  0.636572   0.801942             0.711581  0:02:17.474211   \n",
      "\n",
      "  LearningRate MaxDepth  \n",
      "0          0.1        6  \n",
      "Starting XGBRegressor at 2020-01-25 06:42:26.882945\n",
      "\tLearning Rate:  0.1 \tTree Depth:  8\n",
      "\tEnding XGBRegressor at 2020-01-25 06:46:26.481334\n",
      "           Name  R2 Score  RMS Error  Mean Absolute Error   ExecutionTime  \\\n",
      "0  XGBRegressor  0.654013   0.763456             0.688201  0:03:59.598389   \n",
      "\n",
      "  LearningRate MaxDepth  \n",
      "0          0.1        8  \n",
      "Starting XGBRegressor at 2020-01-25 06:46:27.056147\n",
      "\tLearning Rate:  0.1 \tTree Depth:  12\n",
      "\tEnding XGBRegressor at 2020-01-25 06:59:06.268908\n",
      "           Name  R2 Score  RMS Error  Mean Absolute Error   ExecutionTime  \\\n",
      "0  XGBRegressor  0.667487   0.733724             0.666632  0:12:39.197779   \n",
      "\n",
      "  LearningRate MaxDepth  \n",
      "0          0.1       12  \n",
      "Starting XGBRegressor at 2020-01-25 06:59:06.987347\n",
      "\tLearning Rate:  0.33 \tTree Depth:  6\n",
      "\tEnding XGBRegressor at 2020-01-25 07:01:19.513338\n",
      "           Name  R2 Score  RMS Error  Mean Absolute Error   ExecutionTime  \\\n",
      "0  XGBRegressor  0.658685   0.753148             0.684255  0:02:12.510553   \n",
      "\n",
      "  LearningRate MaxDepth  \n",
      "0         0.33        6  \n",
      "Starting XGBRegressor at 2020-01-25 07:01:20.084304\n",
      "\tLearning Rate:  0.33 \tTree Depth:  8\n",
      "\tEnding XGBRegressor at 2020-01-25 07:04:55.623202\n",
      "           Name  R2 Score  RMS Error  Mean Absolute Error   ExecutionTime  \\\n",
      "0  XGBRegressor  0.656283   0.758449             0.681208  0:03:35.538898   \n",
      "\n",
      "  LearningRate MaxDepth  \n",
      "0         0.33        8  \n",
      "Starting XGBRegressor at 2020-01-25 07:04:56.224434\n",
      "\tLearning Rate:  0.33 \tTree Depth:  12\n",
      "\tEnding XGBRegressor at 2020-01-25 07:15:22.364979\n",
      "           Name  R2 Score  RMS Error  Mean Absolute Error   ExecutionTime  \\\n",
      "0  XGBRegressor   0.64309   0.787559             0.691889  0:10:26.130459   \n",
      "\n",
      "  LearningRate MaxDepth  \n",
      "0         0.33       12  \n",
      "Starting XGBRegressor at 2020-01-25 07:15:23.105922\n",
      "\tLearning Rate:  0.5 \tTree Depth:  6\n",
      "\tEnding XGBRegressor at 2020-01-25 07:17:44.714379\n",
      "           Name  R2 Score  RMS Error  Mean Absolute Error   ExecutionTime  \\\n",
      "0  XGBRegressor  0.642817   0.788162             0.699597  0:02:21.601998   \n",
      "\n",
      "  LearningRate MaxDepth  \n",
      "0          0.5        6  \n",
      "Starting XGBRegressor at 2020-01-25 07:17:45.309827\n",
      "\tLearning Rate:  0.5 \tTree Depth:  8\n",
      "\tEnding XGBRegressor at 2020-01-25 07:21:25.393787\n",
      "           Name  R2 Score  RMS Error  Mean Absolute Error   ExecutionTime  \\\n",
      "0  XGBRegressor  0.626365   0.824466             0.711105  0:03:40.075819   \n",
      "\n",
      "  LearningRate MaxDepth  \n",
      "0          0.5        8  \n",
      "Starting XGBRegressor at 2020-01-25 07:21:25.962131\n",
      "\tLearning Rate:  0.5 \tTree Depth:  12\n",
      "\tEnding XGBRegressor at 2020-01-25 07:30:52.737481\n",
      "           Name  R2 Score  RMS Error  Mean Absolute Error   ExecutionTime  \\\n",
      "0  XGBRegressor  0.597186   0.888851             0.734293  0:09:26.775350   \n",
      "\n",
      "  LearningRate MaxDepth  \n",
      "0          0.5       12  \n",
      "Loops Complete.\n"
     ]
    }
   ],
   "source": [
    "import pandas as pd\n",
    "XGBResults = pd.DataFrame()\n",
    "\n",
    "for learningRate in [0.01, 0.05, 0.1, 0.33, 0.5]:\n",
    "    from xgboost import XGBRegressor\n",
    "    import warnings\n",
    "    warnings.simplefilter(action='ignore', category=FutureWarning)\n",
    "    for treeDepth in [3, 6, 7, 8, 9, 10, 11, 12]:\n",
    "        \n",
    "        xgbModel = XGBRegressor(objective = \"reg:squarederror\",\n",
    "                                colsample_bytree = 1,\n",
    "                                colsample_bylevel = 1,\n",
    "                                colsample_bynode = 1,\n",
    "                                learning_rate = learningRate,\n",
    "                                max_depth = treeDepth,\n",
    "                                tree_method = \"hist\",\n",
    "                                grow_policy = \"lossguide\",\n",
    "                                n_estimators = 200,\n",
    "                                nthread = 6,\n",
    "                               )\n",
    "        testTrainResults = AssessXGBRegression(Train_X, Train_Y, Test_X, Test_Y, Model = xgbModel)\n",
    "\n",
    "        with pd.option_context(\"display.max_rows\", None, \"display.max_columns\", None, \"display.max_colwidth\", 1000):\n",
    "            print(testTrainResults.drop(\"ModelData\", axis = 1))\n",
    "\n",
    "        XGBResults.append(testTrainResults, ignore_index = True)\n",
    "\n",
    "print(\"Loops Complete.\")"
   ]
  },
  {
   "cell_type": "code",
   "execution_count": 4,
   "metadata": {},
   "outputs": [
    {
     "data": {
      "text/html": [
       "<div>\n",
       "<style scoped>\n",
       "    .dataframe tbody tr th:only-of-type {\n",
       "        vertical-align: middle;\n",
       "    }\n",
       "\n",
       "    .dataframe tbody tr th {\n",
       "        vertical-align: top;\n",
       "    }\n",
       "\n",
       "    .dataframe thead th {\n",
       "        text-align: right;\n",
       "    }\n",
       "</style>\n",
       "<table border=\"1\" class=\"dataframe\">\n",
       "  <thead>\n",
       "    <tr style=\"text-align: right;\">\n",
       "      <th></th>\n",
       "    </tr>\n",
       "  </thead>\n",
       "  <tbody>\n",
       "  </tbody>\n",
       "</table>\n",
       "</div>"
      ],
      "text/plain": [
       "Empty DataFrame\n",
       "Columns: []\n",
       "Index: []"
      ]
     },
     "execution_count": 4,
     "metadata": {},
     "output_type": "execute_result"
    }
   ],
   "source": [
    "XGBResults.head()"
   ]
  },
  {
   "cell_type": "code",
   "execution_count": null,
   "metadata": {},
   "outputs": [],
   "source": [
    "import gc\n",
    "#Del XGBResults\n",
    "gc.collect()\n",
    "gc.collect()\n"
   ]
  },
  {
   "cell_type": "code",
   "execution_count": null,
   "metadata": {
    "scrolled": false
   },
   "outputs": [
    {
     "name": "stdout",
     "output_type": "stream",
     "text": [
      "Starting XGBRegressor at 2020-01-25 08:26:04.262735\n",
      "\tLearning Rate:  0.2 \tTree Depth:  9\n"
     ]
    }
   ],
   "source": [
    "XGBResults = AssessXGBRegression(Train_X, Train_Y.apply(lambda x: x - 2.5), Test_X, Test_Y.apply(lambda x: x - 2.5), LearningRate = 0.2, MaxDepth = 9)"
   ]
  },
  {
   "cell_type": "code",
   "execution_count": null,
   "metadata": {},
   "outputs": [],
   "source": [
    "import pickle\n",
    "with open(\"XGBRegressorResults.dat\", \"wb\") as filePath:\n",
    "    pickle.dump(XGBResults, file=filePath)"
   ]
  },
  {
   "cell_type": "code",
   "execution_count": null,
   "metadata": {},
   "outputs": [],
   "source": []
  },
  {
   "cell_type": "code",
   "execution_count": 3,
   "metadata": {},
   "outputs": [],
   "source": [
    "import pandas as pd\n",
    "from sklearn.metrics import mean_squared_error, r2_score, mean_absolute_error\n",
    "import xgboost as xgb\n",
    "from xgboost import XGBRegressor\n",
    "from datetime import datetime\n",
    "import gc\n",
    "\n",
    "def AssessXGBRegressionModels(x_train, y_train, x_test, y_test):\n",
    "    import gc\n",
    "    import warnings\n",
    "    warnings.simplefilter(action='ignore', category=FutureWarning)\n",
    "\n",
    "    # results container\n",
    "    results_list = pd.DataFrame( columns = [\"Name\", \"R2 Score\", \"RMS Error\", \"Mean Absolute Error\", \"ModelData\", \"ExecutionTime\"])\n",
    "\n",
    "    for learningRate in [0.5, 0.1, 0.01]:\n",
    "        for maxDepth in [3, 6, 9]:\n",
    "            loopStartTime = datetime.now()\n",
    "\n",
    "            xgbModel = XGBRegressor(objective = \"reg:squarederror\",\n",
    "                                    colsample_bytree = 1,\n",
    "                                    colsample_bylevel = 1,\n",
    "                                    colsample_bynode = 1,\n",
    "                                    learning_rate = learningRate,\n",
    "                                    max_depth = maxDepth,\n",
    "                                    tree_method = \"hist\",\n",
    "                                    grow_policy = \"lossguide\",\n",
    "                                    n_estimators = 200,\n",
    "                                    nthread = 6,\n",
    "                                   )\n",
    "\n",
    "            print(\"Starting XGBRegressor at \" + str(loopStartTime))\n",
    "            print(\"\\tLearning Rate: \", str(learningRate), \"\\tTree Depth: \", str(maxDepth))\n",
    "\n",
    "            xgbModel.fit(x_train, y_train)\n",
    "            xgbPredictor = xgbModel.predict(x_test)\n",
    "\n",
    "            loopEndTime = datetime.now()\n",
    "            results_list = results_list.append({\"Name\" : \"XGBRegressor\",\n",
    "                                                \"R2 Score\": r2_score(y_test, xgbPredictor),\n",
    "                                                \"RMS Error\": (mean_squared_error(y_test, xgbPredictor)),\n",
    "                                                \"Mean Absolute Error\": mean_absolute_error(y_test, xgbPredictor),\n",
    "                                                \"ModelData\" : xgbModel,\n",
    "                                                \"ExecutionTime\": str(loopEndTime - loopStartTime),\n",
    "                                                \"LearningRate\": str(learningRate),\n",
    "                                                \"MaxDepth\":str(maxDepth),\n",
    "                                                }, ignore_index = True)\n",
    "\n",
    "            print(\"\\tEnding XGBRegressor at \" + str(datetime.now()))\n",
    "            del xgbModel\n",
    "            del xgbPredictor\n",
    "            gc.collect()\n",
    "    \n",
    "    with pd.option_context(\"display.max_rows\", None, \"display.max_columns\", None, \"display.max_colwidth\", 1000):\n",
    "        print(results_list.drop(\"ModelData\", axis = 1))\n",
    "\n",
    "    gc.collect()\n",
    "    gc.collect()\n",
    "    print(\"Loops Complete.\")\n",
    "\n",
    "    return results_list"
   ]
  }
 ],
 "metadata": {
  "kernelspec": {
   "display_name": "Python 3",
   "language": "python",
   "name": "python3"
  },
  "language_info": {
   "codemirror_mode": {
    "name": "ipython",
    "version": 3
   },
   "file_extension": ".py",
   "mimetype": "text/x-python",
   "name": "python",
   "nbconvert_exporter": "python",
   "pygments_lexer": "ipython3",
   "version": "3.7.6"
  }
 },
 "nbformat": 4,
 "nbformat_minor": 2
}
