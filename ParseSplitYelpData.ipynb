{
 "cells": [
  {
   "cell_type": "markdown",
   "metadata": {},
   "source": [
    "# Yelp Review Data\n",
    "Loading, parsing, and filtering review data json from the Yelp Dataset Challenge Round 13 for sentiment analysis training."
   ]
  },
  {
   "cell_type": "markdown",
   "metadata": {},
   "source": [
    "### Load Dataset from file"
   ]
  },
  {
   "cell_type": "code",
   "execution_count": 1,
   "metadata": {
    "scrolled": true
   },
   "outputs": [],
   "source": [
    "def LoadYelpData():\n",
    "    from datetime import datetime\n",
    "    import pandas as pd\n",
    "    ReadWriteChunkSize = 10000\n",
    "    MaxDataRows = 50000\n",
    "    DataReader = pd.read_json(\"A:\\\\Files\\\\Shares\\\\Downloads\\\\yelp_dataset\\\\yelp_dataset~\\\\review.json\", lines = True, chunksize = ReadWriteChunkSize,\n",
    "                             dtype={'review_id':str,\n",
    "                                    'user_id':str,\n",
    "                                    'business_id':str,\n",
    "                                    'stars':\"int8\",\n",
    "                                    'date':str,\n",
    "                                    'text':str,\n",
    "                                    'useful':\"int8\",\n",
    "                                    'funny':\"int8\",\n",
    "                                    'cool':\"int8\"\n",
    "                                   },\n",
    "                             )\n",
    "\n",
    "    fileData = []\n",
    "    startTime = datetime.now()\n",
    "    for data in DataReader:\n",
    "        fileData.append(data[[\"stars\",\"text\"]])\n",
    "        print(str(len(fileData) * ReadWriteChunkSize), \" - \", str(datetime.now() - startTime))\n",
    "        if((len(fileData) * ReadWriteChunkSize) >= MaxDataRows):\n",
    "            break\n",
    "\n",
    "    print(\"\\n\\nFile Reading Complete\")\n",
    "    return pd.concat(fileData, axis = 0)"
   ]
  },
  {
   "cell_type": "code",
   "execution_count": 2,
   "metadata": {},
   "outputs": [
    {
     "name": "stdout",
     "output_type": "stream",
     "text": [
      "10000  -  0:00:00.181888\n",
      "20000  -  0:00:00.344473\n",
      "30000  -  0:00:00.501120\n",
      "40000  -  0:00:00.652570\n",
      "50000  -  0:00:00.812928\n",
      "\n",
      "\n",
      "File Reading Complete\n"
     ]
    }
   ],
   "source": [
    "FileData = LoadYelpData()"
   ]
  },
  {
   "cell_type": "code",
   "execution_count": 3,
   "metadata": {},
   "outputs": [],
   "source": [
    "FileData = FileData.rename(columns = {\"stars\":\"StarRating\", \"text\":\"ReviewText\"})"
   ]
  },
  {
   "cell_type": "code",
   "execution_count": 4,
   "metadata": {
    "scrolled": true
   },
   "outputs": [
    {
     "name": "stdout",
     "output_type": "stream",
     "text": [
      "<class 'pandas.core.frame.DataFrame'>\n",
      "RangeIndex: 50000 entries, 0 to 49999\n",
      "Data columns (total 2 columns):\n",
      "StarRating    50000 non-null int8\n",
      "ReviewText    50000 non-null object\n",
      "dtypes: int8(1), object(1)\n",
      "memory usage: 439.6+ KB\n"
     ]
    }
   ],
   "source": [
    "FileData.info()"
   ]
  },
  {
   "cell_type": "markdown",
   "metadata": {},
   "source": [
    "### Filter by star rating"
   ]
  },
  {
   "cell_type": "code",
   "execution_count": 5,
   "metadata": {},
   "outputs": [],
   "source": [
    "# Drop rows containing excess data\n",
    "def DropStars(FileData, Binary = False):\n",
    "    oneStarRowCount = (FileData.loc[(FileData[\"StarRating\"] <= 1), \"StarRating\"].count())\n",
    "    endingRowCountsPerResult = {}\n",
    "    if(Binary):\n",
    "        endingRowCountsPerResult = {\n",
    "            5 : oneStarRowCount,\n",
    "            4 : 0,\n",
    "            3 : 0,\n",
    "            2 : 0,\n",
    "            1 : oneStarRowCount,\n",
    "        }\n",
    "    else:\n",
    "        endingRowCountsPerResult = {\n",
    "            5 : oneStarRowCount,\n",
    "            4 : oneStarRowCount,\n",
    "            3 : oneStarRowCount,\n",
    "            2 : oneStarRowCount,\n",
    "            1 : oneStarRowCount,\n",
    "        }\n",
    "            \n",
    "    \n",
    "    for stars in range(2,6):\n",
    "        FileData = DropRowsAtRandom(\n",
    "            DataFrame = FileData,\n",
    "            CategoryColumnName = \"StarRating\",\n",
    "            ValueCountToReduce = stars,\n",
    "            RemainingRows = endingRowCountsPerResult[stars],\n",
    "        )\n",
    "    return FileData"
   ]
  },
  {
   "cell_type": "code",
   "execution_count": 6,
   "metadata": {},
   "outputs": [],
   "source": [
    "# Drop X star rows to selected number of rows\n",
    "def DropRowsAtRandom(DataFrame, CategoryColumnName, RemainingRows, ValueCountToReduce = 0):\n",
    "    columnIndexArray = DataFrame[(DataFrame[CategoryColumnName] == ValueCountToReduce)].index\n",
    "    startingRowCount = len(columnIndexArray)\n",
    "\n",
    "    if(startingRowCount > RemainingRows):\n",
    "        import numpy as np\n",
    "        np.random.seed(13)\n",
    "\n",
    "        DataFrame = DataFrame.drop(\n",
    "            np.random.choice(\n",
    "                columnIndexArray,\n",
    "                (startingRowCount - (RemainingRows)),\n",
    "                replace = False,\n",
    "            )\n",
    "        )\n",
    "    return DataFrame"
   ]
  },
  {
   "cell_type": "code",
   "execution_count": 7,
   "metadata": {
    "scrolled": true
   },
   "outputs": [
    {
     "data": {
      "text/plain": [
       "5    22271\n",
       "4    11062\n",
       "1     7245\n",
       "3     5467\n",
       "2     3955\n",
       "Name: StarRating, dtype: int64"
      ]
     },
     "execution_count": 7,
     "metadata": {},
     "output_type": "execute_result"
    }
   ],
   "source": [
    "FileData[\"StarRating\"].value_counts()"
   ]
  },
  {
   "cell_type": "code",
   "execution_count": 8,
   "metadata": {},
   "outputs": [],
   "source": [
    "FileData = DropStars(FileData, Binary = False)"
   ]
  },
  {
   "cell_type": "code",
   "execution_count": 9,
   "metadata": {
    "scrolled": true
   },
   "outputs": [
    {
     "data": {
      "text/plain": [
       "5    7245\n",
       "4    7245\n",
       "1    7245\n",
       "3    5467\n",
       "2    3955\n",
       "Name: StarRating, dtype: int64"
      ]
     },
     "execution_count": 9,
     "metadata": {},
     "output_type": "execute_result"
    }
   ],
   "source": [
    "FileData[\"StarRating\"].value_counts()"
   ]
  },
  {
   "cell_type": "code",
   "execution_count": 10,
   "metadata": {
    "scrolled": true
   },
   "outputs": [
    {
     "name": "stdout",
     "output_type": "stream",
     "text": [
      "<class 'pandas.core.frame.DataFrame'>\n",
      "Int64Index: 31157 entries, 0 to 49999\n",
      "Data columns (total 2 columns):\n",
      "StarRating    31157 non-null int8\n",
      "ReviewText    31157 non-null object\n",
      "dtypes: int8(1), object(1)\n",
      "memory usage: 517.3+ KB\n"
     ]
    }
   ],
   "source": [
    "FileData.info()"
   ]
  },
  {
   "cell_type": "markdown",
   "metadata": {},
   "source": [
    "### Save Dataset to File"
   ]
  },
  {
   "cell_type": "code",
   "execution_count": 11,
   "metadata": {},
   "outputs": [],
   "source": [
    "FileSavePath = \"YelpReviewData.csv\""
   ]
  },
  {
   "cell_type": "code",
   "execution_count": 12,
   "metadata": {},
   "outputs": [],
   "source": [
    "FileData.to_csv(FileSavePath, index = False)"
   ]
  },
  {
   "cell_type": "markdown",
   "metadata": {},
   "source": [
    "### Reload Dataset from Save File"
   ]
  },
  {
   "cell_type": "code",
   "execution_count": 13,
   "metadata": {},
   "outputs": [],
   "source": [
    "import pandas as pd\n",
    "FileDataReloaded = pd.read_csv(FileSavePath, dtype = {\"StarRating\": \"int8\", \"ReviewText\":\"str\"})"
   ]
  },
  {
   "cell_type": "code",
   "execution_count": 14,
   "metadata": {
    "scrolled": true
   },
   "outputs": [
    {
     "name": "stdout",
     "output_type": "stream",
     "text": [
      "<class 'pandas.core.frame.DataFrame'>\n",
      "RangeIndex: 31157 entries, 0 to 31156\n",
      "Data columns (total 2 columns):\n",
      "StarRating    31157 non-null int8\n",
      "ReviewText    31157 non-null object\n",
      "dtypes: int8(1), object(1)\n",
      "memory usage: 274.0+ KB\n"
     ]
    }
   ],
   "source": [
    "FileDataReloaded.info()"
   ]
  },
  {
   "cell_type": "code",
   "execution_count": null,
   "metadata": {},
   "outputs": [],
   "source": []
  }
 ],
 "metadata": {
  "kernelspec": {
   "display_name": "Python 3",
   "language": "python",
   "name": "python3"
  },
  "language_info": {
   "codemirror_mode": {
    "name": "ipython",
    "version": 3
   },
   "file_extension": ".py",
   "mimetype": "text/x-python",
   "name": "python",
   "nbconvert_exporter": "python",
   "pygments_lexer": "ipython3",
   "version": "3.7.6"
  }
 },
 "nbformat": 4,
 "nbformat_minor": 2
}
