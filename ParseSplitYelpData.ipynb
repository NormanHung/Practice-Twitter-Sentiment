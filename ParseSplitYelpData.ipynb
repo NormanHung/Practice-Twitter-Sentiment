{
 "cells": [
  {
   "cell_type": "markdown",
   "metadata": {},
   "source": [
    "# Yelp Review Data\n",
    "Loading, parsing, and filtering review data json from the Yelp Dataset Challenge Round 13 for sentiment analysis training."
   ]
  },
  {
   "cell_type": "markdown",
   "metadata": {},
   "source": [
    "### Load Dataset from file"
   ]
  },
  {
   "cell_type": "code",
   "execution_count": 15,
   "metadata": {
    "scrolled": true
   },
   "outputs": [],
   "source": [
    "def LoadYelpData():\n",
    "    from datetime import datetime\n",
    "    import pandas as pd\n",
    "    ReadWriteChunkSize = 100000\n",
    "    MaxDataRows = 1000000\n",
    "    DataReader = pd.read_json(\"Z:\\\\Downloads\\\\yelp_dataset\\\\yelp_dataset~\\\\review.json\", lines = True, chunksize = ReadWriteChunkSize,\n",
    "                             dtype={'review_id':str,\n",
    "                                    'user_id':str,\n",
    "                                    'business_id':str,\n",
    "                                    'stars':\"int8\",\n",
    "                                    'date':str,\n",
    "                                    'text':str,\n",
    "                                    'useful':\"int8\",\n",
    "                                    'funny':\"int8\",\n",
    "                                    'cool':\"int8\"\n",
    "                                   },\n",
    "                             )\n",
    "\n",
    "    fileData = []\n",
    "    startTime = datetime.now()\n",
    "    for data in DataReader:\n",
    "        fileData.append(data[[\"stars\",\"text\"]])\n",
    "        print(str(len(fileData) * ReadWriteChunkSize), \" - \", str(datetime.now() - startTime))\n",
    "        if((len(fileData) * ReadWriteChunkSize) >= MaxDataRows):\n",
    "            break\n",
    "\n",
    "    print(\"\\n\\nFile Reading Complete\")\n",
    "    return pd.concat(fileData, axis = 0)"
   ]
  },
  {
   "cell_type": "code",
   "execution_count": 16,
   "metadata": {},
   "outputs": [
    {
     "name": "stdout",
     "output_type": "stream",
     "text": [
      "100000  -  0:00:02.838064\n",
      "200000  -  0:00:05.766999\n",
      "300000  -  0:00:08.664844\n",
      "400000  -  0:00:12.269671\n",
      "500000  -  0:00:15.837154\n",
      "600000  -  0:00:19.450968\n",
      "700000  -  0:00:23.055793\n",
      "800000  -  0:00:26.613450\n",
      "900000  -  0:00:30.176524\n",
      "1000000  -  0:00:33.744363\n",
      "\n",
      "\n",
      "File Reading Complete\n"
     ]
    }
   ],
   "source": [
    "FileData = LoadYelpData()"
   ]
  },
  {
   "cell_type": "code",
   "execution_count": 17,
   "metadata": {},
   "outputs": [],
   "source": [
    "FileData = FileData.rename(columns = {\"stars\":\"StarRating\", \"text\":\"ReviewText\"})"
   ]
  },
  {
   "cell_type": "code",
   "execution_count": 18,
   "metadata": {
    "scrolled": true
   },
   "outputs": [
    {
     "name": "stdout",
     "output_type": "stream",
     "text": [
      "<class 'pandas.core.frame.DataFrame'>\n",
      "RangeIndex: 1000000 entries, 0 to 999999\n",
      "Data columns (total 2 columns):\n",
      "StarRating    1000000 non-null int8\n",
      "ReviewText    1000000 non-null object\n",
      "dtypes: int8(1), object(1)\n",
      "memory usage: 8.6+ MB\n"
     ]
    }
   ],
   "source": [
    "FileData.info()"
   ]
  },
  {
   "cell_type": "markdown",
   "metadata": {},
   "source": [
    "### Filter by star rating"
   ]
  },
  {
   "cell_type": "code",
   "execution_count": 19,
   "metadata": {},
   "outputs": [],
   "source": [
    "# Drop rows containing excess data\n",
    "def DropStars(FileData, Binary = False):\n",
    "    oneStarRowCount = (FileData.loc[(FileData[\"StarRating\"] <= 1), \"StarRating\"].count())\n",
    "    endingRowCountsPerResult = {}\n",
    "    if(Binary):\n",
    "        endingRowCountsPerResult = {\n",
    "            5 : oneStarRowCount,\n",
    "            4 : 0,\n",
    "            3 : 0,\n",
    "            2 : 0,\n",
    "            1 : oneStarRowCount,\n",
    "        }\n",
    "    else:\n",
    "        endingRowCountsPerResult = {\n",
    "            5 : oneStarRowCount,\n",
    "            4 : oneStarRowCount,\n",
    "            3 : oneStarRowCount,\n",
    "            2 : oneStarRowCount,\n",
    "            1 : oneStarRowCount,\n",
    "        }\n",
    "            \n",
    "    \n",
    "    for stars in range(2,6):\n",
    "        FileData = DropRowsAtRandom(\n",
    "            DataFrame = FileData,\n",
    "            CategoryColumnName = \"StarRating\",\n",
    "            ValueCountToReduce = stars,\n",
    "            RemainingRows = endingRowCountsPerResult[stars],\n",
    "        )\n",
    "    return FileData"
   ]
  },
  {
   "cell_type": "code",
   "execution_count": 20,
   "metadata": {},
   "outputs": [],
   "source": [
    "# Drop X star rows to selected number of rows\n",
    "def DropRowsAtRandom(DataFrame, CategoryColumnName, RemainingRows, ValueCountToReduce = 0):\n",
    "    columnIndexArray = DataFrame[(DataFrame[CategoryColumnName] == ValueCountToReduce)].index\n",
    "    startingRowCount = len(columnIndexArray)\n",
    "\n",
    "    if(startingRowCount > RemainingRows):\n",
    "        import numpy as np\n",
    "        np.random.seed(13)\n",
    "\n",
    "        DataFrame = DataFrame.drop(\n",
    "            np.random.choice(\n",
    "                columnIndexArray,\n",
    "                (startingRowCount - (RemainingRows)),\n",
    "                replace = False,\n",
    "            )\n",
    "        )\n",
    "    return DataFrame"
   ]
  },
  {
   "cell_type": "code",
   "execution_count": 21,
   "metadata": {
    "scrolled": true
   },
   "outputs": [
    {
     "data": {
      "text/plain": [
       "5    441856\n",
       "4    219363\n",
       "1    148519\n",
       "3    109804\n",
       "2     80458\n",
       "Name: StarRating, dtype: int64"
      ]
     },
     "execution_count": 21,
     "metadata": {},
     "output_type": "execute_result"
    }
   ],
   "source": [
    "FileData[\"StarRating\"].value_counts()"
   ]
  },
  {
   "cell_type": "code",
   "execution_count": 22,
   "metadata": {},
   "outputs": [],
   "source": [
    "FileData = DropStars(FileData, Binary = False)"
   ]
  },
  {
   "cell_type": "code",
   "execution_count": 23,
   "metadata": {
    "scrolled": true
   },
   "outputs": [
    {
     "data": {
      "text/plain": [
       "5    148519\n",
       "4    148519\n",
       "1    148519\n",
       "3    109804\n",
       "2     80458\n",
       "Name: StarRating, dtype: int64"
      ]
     },
     "execution_count": 23,
     "metadata": {},
     "output_type": "execute_result"
    }
   ],
   "source": [
    "FileData[\"StarRating\"].value_counts()"
   ]
  },
  {
   "cell_type": "code",
   "execution_count": 24,
   "metadata": {
    "scrolled": true
   },
   "outputs": [
    {
     "name": "stdout",
     "output_type": "stream",
     "text": [
      "<class 'pandas.core.frame.DataFrame'>\n",
      "Int64Index: 635819 entries, 0 to 999998\n",
      "Data columns (total 2 columns):\n",
      "StarRating    635819 non-null int8\n",
      "ReviewText    635819 non-null object\n",
      "dtypes: int8(1), object(1)\n",
      "memory usage: 10.3+ MB\n"
     ]
    }
   ],
   "source": [
    "FileData.info()"
   ]
  },
  {
   "cell_type": "markdown",
   "metadata": {},
   "source": [
    "### Save Dataset to File"
   ]
  },
  {
   "cell_type": "code",
   "execution_count": 25,
   "metadata": {},
   "outputs": [],
   "source": [
    "FileSavePath = \"YelpReviewData.csv\""
   ]
  },
  {
   "cell_type": "code",
   "execution_count": 26,
   "metadata": {},
   "outputs": [],
   "source": [
    "FileData.to_csv(FileSavePath, index = False)"
   ]
  },
  {
   "cell_type": "markdown",
   "metadata": {},
   "source": [
    "### Reload Dataset from Save File"
   ]
  },
  {
   "cell_type": "code",
   "execution_count": 27,
   "metadata": {},
   "outputs": [],
   "source": [
    "import pandas as pd\n",
    "FileDataReloaded = pd.read_csv(FileSavePath, dtype = {\"StarRating\": \"int8\", \"ReviewText\":\"str\"})"
   ]
  },
  {
   "cell_type": "code",
   "execution_count": 28,
   "metadata": {
    "scrolled": true
   },
   "outputs": [
    {
     "name": "stdout",
     "output_type": "stream",
     "text": [
      "<class 'pandas.core.frame.DataFrame'>\n",
      "RangeIndex: 635819 entries, 0 to 635818\n",
      "Data columns (total 2 columns):\n",
      "StarRating    635819 non-null int8\n",
      "ReviewText    635819 non-null object\n",
      "dtypes: int8(1), object(1)\n",
      "memory usage: 5.5+ MB\n"
     ]
    }
   ],
   "source": [
    "FileDataReloaded.info()"
   ]
  },
  {
   "cell_type": "code",
   "execution_count": null,
   "metadata": {},
   "outputs": [],
   "source": []
  }
 ],
 "metadata": {
  "kernelspec": {
   "display_name": "Python 3",
   "language": "python",
   "name": "python3"
  },
  "language_info": {
   "codemirror_mode": {
    "name": "ipython",
    "version": 3
   },
   "file_extension": ".py",
   "mimetype": "text/x-python",
   "name": "python",
   "nbconvert_exporter": "python",
   "pygments_lexer": "ipython3",
   "version": "3.7.5"
  }
 },
 "nbformat": 4,
 "nbformat_minor": 2
}
